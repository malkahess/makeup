{
  "cells": [
    {
      "cell_type": "markdown",
      "source": "Makeup Assignment\n\nThis assignment should be done individually. Questions will be taken after 10 minutes of quiet \n\nIn this assignment, you will be obtaining Makeup product information from a web API that can be found here: http://makeup-api.herokuapp.com/ \n\nAll the information that you need to complete the assignment will be found on the APIs documentation.\n\nPlease run each task in its own cell. If a task asks you to answer a question, you can answer it in markdown in the same cell as the task. Once you are done, run the entire notebook (so it shows the output) and upload it to any of you personal repos (you can create a new one) and add me as a colaborator. I should be able to see your output on Github.\n",
      "metadata": {
        "cell_id": "00000-54a315fb-0345-4ce3-8659-04741cb3a7be",
        "tags": [],
        "deepnote_cell_type": "markdown"
      }
    },
    {
      "cell_type": "code",
      "metadata": {
        "cell_id": "00000-5347acfa-b791-4fe4-b66a-a8a2dae05b4e",
        "tags": [],
        "deepnote_cell_type": "code"
      },
      "source": "\n\n\n\n\n\n\n\n\n\n\n\n\n\n\n\n\n\n\n\n\n\n\n\n\n\n\n\n\n\n\n\n\n\n\n\n\n\n",
      "execution_count": null,
      "outputs": []
    },
    {
      "cell_type": "code",
      "source": "#imports here\nimport pandas\nfrom pandas import json_normalize\nimport requests",
      "metadata": {
        "tags": [],
        "cell_id": "00002-3f9e9834-f3de-4751-8bb4-496164cb9da2",
        "deepnote_to_be_reexecuted": false,
        "source_hash": "300be2ac",
        "execution_millis": 45,
        "execution_start": 1615285776257,
        "deepnote_cell_type": "code"
      },
      "outputs": [],
      "execution_count": 7
    },
    {
      "cell_type": "code",
      "source": "# create a get request for all products that are Maybelline brand and under $5. Filter with query params\n\nresponse = requests.get('http://makeup-api.herokuapp.com/api/v1/products.json?brand=maybelline&price_less_than=5')\n",
      "metadata": {
        "tags": [],
        "cell_id": "00003-d34114ca-8e18-4747-98a7-1da37eafeb22",
        "deepnote_to_be_reexecuted": false,
        "source_hash": "789fbb74",
        "execution_millis": 34,
        "execution_start": 1615285776302,
        "deepnote_cell_type": "code"
      },
      "outputs": [],
      "execution_count": 8
    },
    {
      "cell_type": "code",
      "source": "# check the status of the above's request\nresponse.status_code",
      "metadata": {
        "tags": [],
        "cell_id": "00004-735095bc-52f9-4841-8dfd-3a53c1c1dad1",
        "deepnote_to_be_reexecuted": false,
        "source_hash": "dbf25adf",
        "execution_millis": 6,
        "execution_start": 1615285779454,
        "deepnote_cell_type": "code"
      },
      "outputs": [
        {
          "output_type": "execute_result",
          "execution_count": 9,
          "data": {
            "text/plain": "200"
          },
          "metadata": {}
        }
      ],
      "execution_count": 9
    },
    {
      "cell_type": "code",
      "source": "# output the content of the request \nresponse.content",
      "metadata": {
        "tags": [],
        "cell_id": "00005-9b5f9f17-fcd6-4c64-8623-81172b9c09a3",
        "deepnote_to_be_reexecuted": false,
        "source_hash": "6ac655ce",
        "execution_millis": 9,
        "execution_start": 1615285781306,
        "deepnote_cell_type": "code"
      },
      "outputs": [
        {
          "output_type": "execute_result",
          "execution_count": 10,
          "data": {
            "text/plain": "b'[{\"id\":146,\"brand\":\"maybelline\",\"name\":\"Maybelline Color Show Nail Lacquer Jewels \",\"price\":\"4.49\",\"price_sign\":null,\"currency\":null,\"image_link\":\"https://d3t32hsnjxo7q6.cloudfront.net/i/f6239cbcd84fa838c461f020b86924aa_ra,w158,h184_pa,w158,h184.png\",\"product_link\":\"https://well.ca/products/maybelline-color-show-nail-lacquer_96730.html\",\"website_link\":\"https://well.ca\",\"description\":\"Maybelline Color Show Nail Lacquer Jewels collection features jeweled nail lacquer top coats straight from the shows!Features:Adorns your nails with textured gem effectsTrendy top coat nail art designsEasy-flow brushFormaldehyde, DBP and Toluene freeShade Range: (left to right: Mosaic Prism, Platinum Adorn)For Best Results:First apply a clear base coat to prevent your nails from yellowing and to help your nail color last longer. Choose a base shade and with one sweep, paint the first line of nail polish up the center of your nail starting from the base to the tip.For the cleanest look, be sure to leave a small space at the base of the nail. Then apply nail color to the rest of the nail. Pick your textured top coat and paint over your base shade for a street styled nail art look.\",\"rating\":3.0,\"category\":null,\"product_type\":\"nail_polish\",\"tag_list\":[],\"created_at\":\"2016-10-01T18:26:51.778Z\",\"updated_at\":\"2017-12-23T20:51:08.631Z\",\"product_api_url\":\"http://makeup-api.herokuapp.com/api/v1/products/146.json\",\"api_featured_image\":\"//s3.amazonaws.com/donovanbailey/products/api_featured_images/000/000/146/original/open-uri20171223-4-fnr4hp?1514062268\",\"product_colors\":[]},{\"id\":145,\"brand\":\"maybelline\",\"name\":\"Maybelline Color Show Nail Lacquer Veils \",\"price\":\"4.49\",\"price_sign\":null,\"currency\":null,\"image_link\":\"https://d3t32hsnjxo7q6.cloudfront.net/i/64cbcfbd001435c3abc3d8f77c16a0bf_ra,w158,h184_pa,w158,h184.png\",\"product_link\":\"https://well.ca/products/maybelline-color-show-nail-lacquer_96731.html\",\"website_link\":\"https://well.ca\",\"description\":\"Maybelline Color Show Nail Lacquer Veils collection gives you subtle shimmers to refined glitters in colours straight from the shows!Features:Trendy top coat nail art designsEasy-flow brushFormaldehyde, DBP and Toluene freeShade Range: (left to right: Amethyst Aura, Rose Mirage, Crystal Disguise)For Best Results:First\\\\n apply a clear base coat to prevent your nails from yellowing and to \\\\nhelp your nail color last longer. Choose a base shade and with one \\\\nsweep, paint the first line of nail polish up the center of your nail \\\\nstarting from the base to the tip.For the cleanest look, be sure\\\\n to leave a small space at the base of the nail. Then apply nail color \\\\nto the rest of the nail. Pick your textured top coat and paint over your\\\\n base shade for a street styled nail art look.\",\"rating\":4.0,\"category\":null,\"product_type\":\"nail_polish\",\"tag_list\":[],\"created_at\":\"2016-10-01T18:26:50.448Z\",\"updated_at\":\"2017-12-23T20:51:08.413Z\",\"product_api_url\":\"http://makeup-api.herokuapp.com/api/v1/products/145.json\",\"api_featured_image\":\"//s3.amazonaws.com/donovanbailey/products/api_featured_images/000/000/145/original/open-uri20171223-4-1a63bxt?1514062268\",\"product_colors\":[{\"hex_value\":\"#394674\",\"colour_name\":\"Amethyst Aura \"}]},{\"id\":133,\"brand\":\"maybelline\",\"name\":\"Maybelline Color Show Nail Lacquer \",\"price\":\"4.49\",\"price_sign\":null,\"currency\":null,\"image_link\":\"https://d3t32hsnjxo7q6.cloudfront.net/i/a05aa31a7e30d9d262ae36d0be2c4f87_ra,w158,h184_pa,w158,h184.png\",\"product_link\":\"https://well.ca/products/maybelline-color-show-nail-lacquer_78068.html\",\"website_link\":\"https://well.ca\",\"description\":\"High fashion meets high-art. With Maybelline Color Show Nail Lacquer PolkaDots Collection you get 3D nail design for your fingertips!Features: \\\\nCreates Hollywood-worthy special effectsChip-resistant formula Easy-flow brushFormaldehyde, DBP and Toluene freeShade Range: \\\\n\",\"rating\":3.3,\"category\":null,\"product_type\":\"nail_polish\",\"tag_list\":[],\"created_at\":\"2016-10-01T18:26:31.673Z\",\"updated_at\":\"2017-12-23T20:51:05.961Z\",\"product_api_url\":\"http://makeup-api.herokuapp.com/api/v1/products/133.json\",\"api_featured_image\":\"//s3.amazonaws.com/donovanbailey/products/api_featured_images/000/000/133/original/open-uri20171223-4-zz1pau?1514062265\",\"product_colors\":[{\"hex_value\":\"#037679\",\"colour_name\":\"Drops of Jade  (55) \"}]}]'"
          },
          "metadata": {}
        }
      ],
      "execution_count": 10
    },
    {
      "cell_type": "code",
      "source": "#convert the content to json format\n",
      "metadata": {
        "tags": [],
        "cell_id": "00006-eb14185d-d32e-43e8-8bb5-39ae0742f701",
        "deepnote_to_be_reexecuted": false,
        "source_hash": "6e0ddc28",
        "execution_millis": 2,
        "execution_start": 1615284776213,
        "deepnote_cell_type": "code"
      },
      "outputs": [],
      "execution_count": null
    },
    {
      "cell_type": "code",
      "source": "#output the json file\njson_file",
      "metadata": {
        "tags": [],
        "cell_id": "00007-d162fd39-4bd1-4cb4-8d78-51237ebf1c02",
        "deepnote_to_be_reexecuted": false,
        "source_hash": "f18fbdd0",
        "execution_millis": 9,
        "execution_start": 1615284776220,
        "deepnote_cell_type": "code"
      },
      "outputs": [
        {
          "output_type": "execute_result",
          "execution_count": 34,
          "data": {
            "text/plain": "[{'id': 146,\n  'brand': 'maybelline',\n  'name': 'Maybelline Color Show Nail Lacquer Jewels ',\n  'price': '4.49',\n  'price_sign': None,\n  'currency': None,\n  'image_link': 'https://d3t32hsnjxo7q6.cloudfront.net/i/f6239cbcd84fa838c461f020b86924aa_ra,w158,h184_pa,w158,h184.png',\n  'product_link': 'https://well.ca/products/maybelline-color-show-nail-lacquer_96730.html',\n  'website_link': 'https://well.ca',\n  'description': 'Maybelline Color Show Nail Lacquer Jewels collection features jeweled nail lacquer top coats straight from the shows!Features:Adorns your nails with textured gem effectsTrendy top coat nail art designsEasy-flow brushFormaldehyde, DBP and Toluene freeShade Range: (left to right: Mosaic Prism, Platinum Adorn)For Best Results:First apply a clear base coat to prevent your nails from yellowing and to help your nail color last longer. Choose a base shade and with one sweep, paint the first line of nail polish up the center of your nail starting from the base to the tip.For the cleanest look, be sure to leave a small space at the base of the nail. Then apply nail color to the rest of the nail. Pick your textured top coat and paint over your base shade for a street styled nail art look.',\n  'rating': 3.0,\n  'category': None,\n  'product_type': 'nail_polish',\n  'tag_list': [],\n  'created_at': '2016-10-01T18:26:51.778Z',\n  'updated_at': '2017-12-23T20:51:08.631Z',\n  'product_api_url': 'http://makeup-api.herokuapp.com/api/v1/products/146.json',\n  'api_featured_image': '//s3.amazonaws.com/donovanbailey/products/api_featured_images/000/000/146/original/open-uri20171223-4-fnr4hp?1514062268',\n  'product_colors': []},\n {'id': 145,\n  'brand': 'maybelline',\n  'name': 'Maybelline Color Show Nail Lacquer Veils ',\n  'price': '4.49',\n  'price_sign': None,\n  'currency': None,\n  'image_link': 'https://d3t32hsnjxo7q6.cloudfront.net/i/64cbcfbd001435c3abc3d8f77c16a0bf_ra,w158,h184_pa,w158,h184.png',\n  'product_link': 'https://well.ca/products/maybelline-color-show-nail-lacquer_96731.html',\n  'website_link': 'https://well.ca',\n  'description': 'Maybelline Color Show Nail Lacquer Veils collection gives you subtle shimmers to refined glitters in colours straight from the shows!Features:Trendy top coat nail art designsEasy-flow brushFormaldehyde, DBP and Toluene freeShade Range: (left to right: Amethyst Aura, Rose Mirage, Crystal Disguise)For Best Results:First\\n apply a clear base coat to prevent your nails from yellowing and to \\nhelp your nail color last longer. Choose a base shade and with one \\nsweep, paint the first line of nail polish up the center of your nail \\nstarting from the base to the tip.For the cleanest look, be sure\\n to leave a small space at the base of the nail. Then apply nail color \\nto the rest of the nail. Pick your textured top coat and paint over your\\n base shade for a street styled nail art look.',\n  'rating': 4.0,\n  'category': None,\n  'product_type': 'nail_polish',\n  'tag_list': [],\n  'created_at': '2016-10-01T18:26:50.448Z',\n  'updated_at': '2017-12-23T20:51:08.413Z',\n  'product_api_url': 'http://makeup-api.herokuapp.com/api/v1/products/145.json',\n  'api_featured_image': '//s3.amazonaws.com/donovanbailey/products/api_featured_images/000/000/145/original/open-uri20171223-4-1a63bxt?1514062268',\n  'product_colors': [{'hex_value': '#394674',\n    'colour_name': 'Amethyst Aura '}]},\n {'id': 133,\n  'brand': 'maybelline',\n  'name': 'Maybelline Color Show Nail Lacquer ',\n  'price': '4.49',\n  'price_sign': None,\n  'currency': None,\n  'image_link': 'https://d3t32hsnjxo7q6.cloudfront.net/i/a05aa31a7e30d9d262ae36d0be2c4f87_ra,w158,h184_pa,w158,h184.png',\n  'product_link': 'https://well.ca/products/maybelline-color-show-nail-lacquer_78068.html',\n  'website_link': 'https://well.ca',\n  'description': 'High fashion meets high-art. With Maybelline Color Show Nail Lacquer PolkaDots Collection you get 3D nail design for your fingertips!Features: \\nCreates Hollywood-worthy special effectsChip-resistant formula Easy-flow brushFormaldehyde, DBP and Toluene freeShade Range: \\n',\n  'rating': 3.3,\n  'category': None,\n  'product_type': 'nail_polish',\n  'tag_list': [],\n  'created_at': '2016-10-01T18:26:31.673Z',\n  'updated_at': '2017-12-23T20:51:05.961Z',\n  'product_api_url': 'http://makeup-api.herokuapp.com/api/v1/products/133.json',\n  'api_featured_image': '//s3.amazonaws.com/donovanbailey/products/api_featured_images/000/000/133/original/open-uri20171223-4-zz1pau?1514062265',\n  'product_colors': [{'hex_value': '#037679',\n    'colour_name': 'Drops of Jade  (55) '}]}]"
          },
          "metadata": {}
        }
      ],
      "execution_count": null
    },
    {
      "cell_type": "code",
      "source": "#convert json file to pandas dataframe\ndf  = json_normalize(json_file)",
      "metadata": {
        "tags": [],
        "cell_id": "00008-44857b74-bcfb-4efa-99fc-2ff407654564",
        "deepnote_to_be_reexecuted": false,
        "source_hash": "d9ac6db9",
        "execution_start": 1615283984865,
        "execution_millis": 1,
        "deepnote_cell_type": "code"
      },
      "outputs": [],
      "execution_count": null
    },
    {
      "cell_type": "code",
      "source": "#print head of dataframe\ndf.head()",
      "metadata": {
        "tags": [],
        "cell_id": "00009-45ac892e-4b2d-4e10-bebc-c007e7b109a2",
        "deepnote_to_be_reexecuted": false,
        "source_hash": "a0fe0b5a",
        "execution_millis": 44,
        "execution_start": 1615284786872,
        "deepnote_cell_type": "code"
      },
      "outputs": [
        {
          "output_type": "execute_result",
          "execution_count": 35,
          "data": {
            "application/vnd.deepnote.dataframe.v2+json": {
              "row_count": 3,
              "column_count": 19,
              "columns": [
                {
                  "name": "id",
                  "dtype": "int64",
                  "stats": {
                    "unique_count": 3,
                    "nan_count": 0,
                    "min": 133,
                    "max": 146,
                    "histogram": [
                      {
                        "bin_start": 133,
                        "bin_end": 134.3,
                        "count": 1
                      },
                      {
                        "bin_start": 134.3,
                        "bin_end": 135.6,
                        "count": 0
                      },
                      {
                        "bin_start": 135.6,
                        "bin_end": 136.9,
                        "count": 0
                      },
                      {
                        "bin_start": 136.9,
                        "bin_end": 138.2,
                        "count": 0
                      },
                      {
                        "bin_start": 138.2,
                        "bin_end": 139.5,
                        "count": 0
                      },
                      {
                        "bin_start": 139.5,
                        "bin_end": 140.8,
                        "count": 0
                      },
                      {
                        "bin_start": 140.8,
                        "bin_end": 142.1,
                        "count": 0
                      },
                      {
                        "bin_start": 142.1,
                        "bin_end": 143.4,
                        "count": 0
                      },
                      {
                        "bin_start": 143.4,
                        "bin_end": 144.7,
                        "count": 0
                      },
                      {
                        "bin_start": 144.7,
                        "bin_end": 146,
                        "count": 2
                      }
                    ]
                  }
                },
                {
                  "name": "brand",
                  "dtype": "object",
                  "stats": {
                    "unique_count": 1,
                    "nan_count": 0,
                    "categories": [
                      {
                        "name": "maybelline",
                        "count": 3
                      }
                    ]
                  }
                },
                {
                  "name": "name",
                  "dtype": "object",
                  "stats": {
                    "unique_count": 3,
                    "nan_count": 0,
                    "categories": [
                      {
                        "name": "Maybelline Color Show Nail Lacquer Jewels ",
                        "count": 1
                      },
                      {
                        "name": "Maybelline Color Show Nail Lacquer Veils ",
                        "count": 1
                      },
                      {
                        "name": "Maybelline Color Show Nail Lacquer ",
                        "count": 1
                      }
                    ]
                  }
                },
                {
                  "name": "price",
                  "dtype": "object",
                  "stats": {
                    "unique_count": 1,
                    "nan_count": 0,
                    "categories": [
                      {
                        "name": "4.49",
                        "count": 3
                      }
                    ]
                  }
                },
                {
                  "name": "price_sign",
                  "dtype": "object",
                  "stats": {
                    "unique_count": 0,
                    "nan_count": 3,
                    "categories": [
                      {
                        "name": "Missing",
                        "count": 3
                      }
                    ]
                  }
                },
                {
                  "name": "currency",
                  "dtype": "object",
                  "stats": {
                    "unique_count": 0,
                    "nan_count": 3,
                    "categories": [
                      {
                        "name": "Missing",
                        "count": 3
                      }
                    ]
                  }
                },
                {
                  "name": "image_link",
                  "dtype": "object",
                  "stats": {
                    "unique_count": 3,
                    "nan_count": 0,
                    "categories": [
                      {
                        "name": "https://d3t32hsnjxo7q6.cloudfront.net/i/f6239cbcd84fa838c461f020b86924aa_ra,w158,h184_pa,w158,h184.png",
                        "count": 1
                      },
                      {
                        "name": "https://d3t32hsnjxo7q6.cloudfront.net/i/64cbcfbd001435c3abc3d8f77c16a0bf_ra,w158,h184_pa,w158,h184.png",
                        "count": 1
                      },
                      {
                        "name": "https://d3t32hsnjxo7q6.cloudfront.net/i/a05aa31a7e30d9d262ae36d0be2c4f87_ra,w158,h184_pa,w158,h184.png",
                        "count": 1
                      }
                    ]
                  }
                },
                {
                  "name": "product_link",
                  "dtype": "object",
                  "stats": {
                    "unique_count": 3,
                    "nan_count": 0,
                    "categories": [
                      {
                        "name": "https://well.ca/products/maybelline-color-show-nail-lacquer_96730.html",
                        "count": 1
                      },
                      {
                        "name": "https://well.ca/products/maybelline-color-show-nail-lacquer_96731.html",
                        "count": 1
                      },
                      {
                        "name": "https://well.ca/products/maybelline-color-show-nail-lacquer_78068.html",
                        "count": 1
                      }
                    ]
                  }
                },
                {
                  "name": "website_link",
                  "dtype": "object",
                  "stats": {
                    "unique_count": 1,
                    "nan_count": 0,
                    "categories": [
                      {
                        "name": "https://well.ca",
                        "count": 3
                      }
                    ]
                  }
                },
                {
                  "name": "description",
                  "dtype": "object",
                  "stats": {
                    "unique_count": 3,
                    "nan_count": 0,
                    "categories": [
                      {
                        "name": "Maybelline Color Show Nail Lacquer Jewels collection features jeweled nail lacquer top coats straight from the shows!Features:Adorns your nails with textured gem effectsTrendy top coat nail art designsEasy-flow brushFormaldehyde, DBP and Toluene freeShade Range: (left to right: Mosaic Prism, Platinum Adorn)For Best Results:First apply a clear base coat to prevent your nails from yellowing and to help your nail color last longer. Choose a base shade and with one sweep, paint the first line of nail polish up the center of your nail starting from the base to the tip.For the cleanest look, be sure to leave a small space at the base of the nail. Then apply nail color to the rest of the nail. Pick your textured top coat and paint over your base shade for a street styled nail art look.",
                        "count": 1
                      },
                      {
                        "name": "Maybelline Color Show Nail Lacquer Veils collection gives you subtle shimmers to refined glitters in colours straight from the shows!Features:Trendy top coat nail art designsEasy-flow brushFormaldehyde, DBP and Toluene freeShade Range: (left to right: Amethyst Aura, Rose Mirage, Crystal Disguise)For Best Results:First\n apply a clear base coat to prevent your nails from yellowing and to \nhelp your nail color last longer. Choose a base shade and with one \nsweep, paint the first line of nail polish up the center of your nail \nstarting from the base to the tip.For the cleanest look, be sure\n to leave a small space at the base of the nail. Then apply nail color \nto the rest of the nail. Pick your textured top coat and paint over your\n base shade for a street styled nail art look.",
                        "count": 1
                      },
                      {
                        "name": "High fashion meets high-art. With Maybelline Color Show Nail Lacquer PolkaDots Collection you get 3D nail design for your fingertips!Features: \nCreates Hollywood-worthy special effectsChip-resistant formula Easy-flow brushFormaldehyde, DBP and Toluene freeShade Range: \n",
                        "count": 1
                      }
                    ]
                  }
                },
                {
                  "name": "rating",
                  "dtype": "float64",
                  "stats": {
                    "unique_count": 3,
                    "nan_count": 0,
                    "min": 3,
                    "max": 4,
                    "histogram": [
                      {
                        "bin_start": 3,
                        "bin_end": 3.1,
                        "count": 1
                      },
                      {
                        "bin_start": 3.1,
                        "bin_end": 3.2,
                        "count": 0
                      },
                      {
                        "bin_start": 3.2,
                        "bin_end": 3.3,
                        "count": 0
                      },
                      {
                        "bin_start": 3.3,
                        "bin_end": 3.4,
                        "count": 1
                      },
                      {
                        "bin_start": 3.4,
                        "bin_end": 3.5,
                        "count": 0
                      },
                      {
                        "bin_start": 3.5,
                        "bin_end": 3.6,
                        "count": 0
                      },
                      {
                        "bin_start": 3.6,
                        "bin_end": 3.7,
                        "count": 0
                      },
                      {
                        "bin_start": 3.7,
                        "bin_end": 3.8,
                        "count": 0
                      },
                      {
                        "bin_start": 3.8,
                        "bin_end": 3.9,
                        "count": 0
                      },
                      {
                        "bin_start": 3.9,
                        "bin_end": 4,
                        "count": 1
                      }
                    ]
                  }
                },
                {
                  "name": "category",
                  "dtype": "object",
                  "stats": {
                    "unique_count": 0,
                    "nan_count": 3,
                    "categories": [
                      {
                        "name": "Missing",
                        "count": 3
                      }
                    ]
                  }
                },
                {
                  "name": "product_type",
                  "dtype": "object",
                  "stats": {
                    "unique_count": 1,
                    "nan_count": 0,
                    "categories": [
                      {
                        "name": "nail_polish",
                        "count": 3
                      }
                    ]
                  }
                },
                {
                  "name": "tag_list",
                  "dtype": "object",
                  "stats": {
                    "unique_count": 3,
                    "nan_count": 0,
                    "categories": [
                      {
                        "name": "[]",
                        "count": 3
                      }
                    ]
                  }
                },
                {
                  "name": "created_at",
                  "dtype": "object",
                  "stats": {
                    "unique_count": 3,
                    "nan_count": 0,
                    "categories": [
                      {
                        "name": "2016-10-01T18:26:51.778Z",
                        "count": 1
                      },
                      {
                        "name": "2016-10-01T18:26:50.448Z",
                        "count": 1
                      },
                      {
                        "name": "2016-10-01T18:26:31.673Z",
                        "count": 1
                      }
                    ]
                  }
                },
                {
                  "name": "updated_at",
                  "dtype": "object",
                  "stats": {
                    "unique_count": 3,
                    "nan_count": 0,
                    "categories": [
                      {
                        "name": "2017-12-23T20:51:08.631Z",
                        "count": 1
                      },
                      {
                        "name": "2017-12-23T20:51:08.413Z",
                        "count": 1
                      },
                      {
                        "name": "2017-12-23T20:51:05.961Z",
                        "count": 1
                      }
                    ]
                  }
                },
                {
                  "name": "product_api_url",
                  "dtype": "object",
                  "stats": {
                    "unique_count": 3,
                    "nan_count": 0,
                    "categories": [
                      {
                        "name": "http://makeup-api.herokuapp.com/api/v1/products/146.json",
                        "count": 1
                      },
                      {
                        "name": "http://makeup-api.herokuapp.com/api/v1/products/145.json",
                        "count": 1
                      },
                      {
                        "name": "http://makeup-api.herokuapp.com/api/v1/products/133.json",
                        "count": 1
                      }
                    ]
                  }
                },
                {
                  "name": "api_featured_image",
                  "dtype": "object",
                  "stats": {
                    "unique_count": 3,
                    "nan_count": 0,
                    "categories": [
                      {
                        "name": "//s3.amazonaws.com/donovanbailey/products/api_featured_images/000/000/146/original/open-uri20171223-4-fnr4hp?1514062268",
                        "count": 1
                      },
                      {
                        "name": "//s3.amazonaws.com/donovanbailey/products/api_featured_images/000/000/145/original/open-uri20171223-4-1a63bxt?1514062268",
                        "count": 1
                      },
                      {
                        "name": "//s3.amazonaws.com/donovanbailey/products/api_featured_images/000/000/133/original/open-uri20171223-4-zz1pau?1514062265",
                        "count": 1
                      }
                    ]
                  }
                },
                {
                  "name": "product_colors",
                  "dtype": "object",
                  "stats": {
                    "unique_count": 3,
                    "nan_count": 0,
                    "categories": [
                      {
                        "name": "[]",
                        "count": 1
                      },
                      {
                        "name": "[{'hex_value': '#394674', 'colour_name': 'Amethyst Aura '}]",
                        "count": 1
                      },
                      {
                        "name": "[{'hex_value': '#037679', 'colour_name': 'Drops of Jade  (55) '}]",
                        "count": 1
                      }
                    ]
                  }
                },
                {
                  "name": "_deepnote_index_column",
                  "dtype": "int64"
                }
              ],
              "rows_top": [
                {
                  "id": 146,
                  "brand": "maybelline",
                  "name": "Maybelline Color Show Nail Lacquer Jewels ",
                  "price": "4.49",
                  "price_sign": "nan",
                  "currency": "nan",
                  "image_link": "https://d3t32hsnjxo7q6.cloudfront.net/i/f6239cbcd84fa838c461f020b86924aa_ra,w158,h184_pa,w158,h184.png",
                  "product_link": "https://well.ca/products/maybelline-color-show-nail-lacquer_96730.html",
                  "website_link": "https://well.ca",
                  "description": "Maybelline Color Show Nail Lacquer Jewels collection features jeweled nail lacquer top coats straight from the shows!Features:Adorns your nails with textured gem effectsTrendy top coat nail art designsEasy-flow brushFormaldehyde, DBP and Toluene freeShade Range: (left to right: Mosaic Prism, Platinum Adorn)For Best Results:First apply a clear base coat to prevent your nails from yellowing and to help your nail color last longer. Choose a base shade and with one sweep, paint the first line of nail polish up the center of your nail starting from the base to the tip.For the cleanest look, be sure to leave a small space at the base of the nail. Then apply nail color to the rest of the nail. Pick your textured top coat and paint over your base shade for a street styled nail art look.",
                  "rating": 3,
                  "category": "nan",
                  "product_type": "nail_polish",
                  "tag_list": "[]",
                  "created_at": "2016-10-01T18:26:51.778Z",
                  "updated_at": "2017-12-23T20:51:08.631Z",
                  "product_api_url": "http://makeup-api.herokuapp.com/api/v1/products/146.json",
                  "api_featured_image": "//s3.amazonaws.com/donovanbailey/products/api_featured_images/000/000/146/original/open-uri20171223-4-fnr4hp?1514062268",
                  "product_colors": "[]",
                  "_deepnote_index_column": 0
                },
                {
                  "id": 145,
                  "brand": "maybelline",
                  "name": "Maybelline Color Show Nail Lacquer Veils ",
                  "price": "4.49",
                  "price_sign": "nan",
                  "currency": "nan",
                  "image_link": "https://d3t32hsnjxo7q6.cloudfront.net/i/64cbcfbd001435c3abc3d8f77c16a0bf_ra,w158,h184_pa,w158,h184.png",
                  "product_link": "https://well.ca/products/maybelline-color-show-nail-lacquer_96731.html",
                  "website_link": "https://well.ca",
                  "description": "Maybelline Color Show Nail Lacquer Veils collection gives you subtle shimmers to refined glitters in colours straight from the shows!Features:Trendy top coat nail art designsEasy-flow brushFormaldehyde, DBP and Toluene freeShade Range: (left to right: Amethyst Aura, Rose Mirage, Crystal Disguise)For Best Results:First\n apply a clear base coat to prevent your nails from yellowing and to \nhelp your nail color last longer. Choose a base shade and with one \nsweep, paint the first line of nail polish up the center of your nail \nstarting from the base to the tip.For the cleanest look, be sure\n to leave a small space at the base of the nail. Then apply nail color \nto the rest of the nail. Pick your textured top coat and paint over your\n base shade for a street styled nail art look.",
                  "rating": 4,
                  "category": "nan",
                  "product_type": "nail_polish",
                  "tag_list": "[]",
                  "created_at": "2016-10-01T18:26:50.448Z",
                  "updated_at": "2017-12-23T20:51:08.413Z",
                  "product_api_url": "http://makeup-api.herokuapp.com/api/v1/products/145.json",
                  "api_featured_image": "//s3.amazonaws.com/donovanbailey/products/api_featured_images/000/000/145/original/open-uri20171223-4-1a63bxt?1514062268",
                  "product_colors": "[{'hex_value': '#394674', 'colour_name': 'Amethyst Aura '}]",
                  "_deepnote_index_column": 1
                },
                {
                  "id": 133,
                  "brand": "maybelline",
                  "name": "Maybelline Color Show Nail Lacquer ",
                  "price": "4.49",
                  "price_sign": "nan",
                  "currency": "nan",
                  "image_link": "https://d3t32hsnjxo7q6.cloudfront.net/i/a05aa31a7e30d9d262ae36d0be2c4f87_ra,w158,h184_pa,w158,h184.png",
                  "product_link": "https://well.ca/products/maybelline-color-show-nail-lacquer_78068.html",
                  "website_link": "https://well.ca",
                  "description": "High fashion meets high-art. With Maybelline Color Show Nail Lacquer PolkaDots Collection you get 3D nail design for your fingertips!Features: \nCreates Hollywood-worthy special effectsChip-resistant formula Easy-flow brushFormaldehyde, DBP and Toluene freeShade Range: \n",
                  "rating": 3.3,
                  "category": "nan",
                  "product_type": "nail_polish",
                  "tag_list": "[]",
                  "created_at": "2016-10-01T18:26:31.673Z",
                  "updated_at": "2017-12-23T20:51:05.961Z",
                  "product_api_url": "http://makeup-api.herokuapp.com/api/v1/products/133.json",
                  "api_featured_image": "//s3.amazonaws.com/donovanbailey/products/api_featured_images/000/000/133/original/open-uri20171223-4-zz1pau?1514062265",
                  "product_colors": "[{'hex_value': '#037679', 'colour_name': 'Drops of Jade  (55) '}]",
                  "_deepnote_index_column": 2
                }
              ],
              "rows_bottom": null
            },
            "text/plain": "    id       brand                                        name price  \\\n0  146  maybelline  Maybelline Color Show Nail Lacquer Jewels   4.49   \n1  145  maybelline   Maybelline Color Show Nail Lacquer Veils   4.49   \n2  133  maybelline         Maybelline Color Show Nail Lacquer   4.49   \n\n  price_sign currency                                         image_link  \\\n0       None     None  https://d3t32hsnjxo7q6.cloudfront.net/i/f6239c...   \n1       None     None  https://d3t32hsnjxo7q6.cloudfront.net/i/64cbcf...   \n2       None     None  https://d3t32hsnjxo7q6.cloudfront.net/i/a05aa3...   \n\n                                        product_link     website_link  \\\n0  https://well.ca/products/maybelline-color-show...  https://well.ca   \n1  https://well.ca/products/maybelline-color-show...  https://well.ca   \n2  https://well.ca/products/maybelline-color-show...  https://well.ca   \n\n                                         description  rating category  \\\n0  Maybelline Color Show Nail Lacquer Jewels coll...     3.0     None   \n1  Maybelline Color Show Nail Lacquer Veils colle...     4.0     None   \n2  High fashion meets high-art. With Maybelline C...     3.3     None   \n\n  product_type tag_list                created_at                updated_at  \\\n0  nail_polish       []  2016-10-01T18:26:51.778Z  2017-12-23T20:51:08.631Z   \n1  nail_polish       []  2016-10-01T18:26:50.448Z  2017-12-23T20:51:08.413Z   \n2  nail_polish       []  2016-10-01T18:26:31.673Z  2017-12-23T20:51:05.961Z   \n\n                                     product_api_url  \\\n0  http://makeup-api.herokuapp.com/api/v1/product...   \n1  http://makeup-api.herokuapp.com/api/v1/product...   \n2  http://makeup-api.herokuapp.com/api/v1/product...   \n\n                                  api_featured_image  \\\n0  //s3.amazonaws.com/donovanbailey/products/api_...   \n1  //s3.amazonaws.com/donovanbailey/products/api_...   \n2  //s3.amazonaws.com/donovanbailey/products/api_...   \n\n                                      product_colors  \n0                                                 []  \n1  [{'hex_value': '#394674', 'colour_name': 'Amet...  \n2  [{'hex_value': '#037679', 'colour_name': 'Drop...  ",
            "text/html": "<div>\n<style scoped>\n    .dataframe tbody tr th:only-of-type {\n        vertical-align: middle;\n    }\n\n    .dataframe tbody tr th {\n        vertical-align: top;\n    }\n\n    .dataframe thead th {\n        text-align: right;\n    }\n</style>\n<table border=\"1\" class=\"dataframe\">\n  <thead>\n    <tr style=\"text-align: right;\">\n      <th></th>\n      <th>id</th>\n      <th>brand</th>\n      <th>name</th>\n      <th>price</th>\n      <th>price_sign</th>\n      <th>currency</th>\n      <th>image_link</th>\n      <th>product_link</th>\n      <th>website_link</th>\n      <th>description</th>\n      <th>rating</th>\n      <th>category</th>\n      <th>product_type</th>\n      <th>tag_list</th>\n      <th>created_at</th>\n      <th>updated_at</th>\n      <th>product_api_url</th>\n      <th>api_featured_image</th>\n      <th>product_colors</th>\n    </tr>\n  </thead>\n  <tbody>\n    <tr>\n      <th>0</th>\n      <td>146</td>\n      <td>maybelline</td>\n      <td>Maybelline Color Show Nail Lacquer Jewels</td>\n      <td>4.49</td>\n      <td>None</td>\n      <td>None</td>\n      <td>https://d3t32hsnjxo7q6.cloudfront.net/i/f6239c...</td>\n      <td>https://well.ca/products/maybelline-color-show...</td>\n      <td>https://well.ca</td>\n      <td>Maybelline Color Show Nail Lacquer Jewels coll...</td>\n      <td>3.0</td>\n      <td>None</td>\n      <td>nail_polish</td>\n      <td>[]</td>\n      <td>2016-10-01T18:26:51.778Z</td>\n      <td>2017-12-23T20:51:08.631Z</td>\n      <td>http://makeup-api.herokuapp.com/api/v1/product...</td>\n      <td>//s3.amazonaws.com/donovanbailey/products/api_...</td>\n      <td>[]</td>\n    </tr>\n    <tr>\n      <th>1</th>\n      <td>145</td>\n      <td>maybelline</td>\n      <td>Maybelline Color Show Nail Lacquer Veils</td>\n      <td>4.49</td>\n      <td>None</td>\n      <td>None</td>\n      <td>https://d3t32hsnjxo7q6.cloudfront.net/i/64cbcf...</td>\n      <td>https://well.ca/products/maybelline-color-show...</td>\n      <td>https://well.ca</td>\n      <td>Maybelline Color Show Nail Lacquer Veils colle...</td>\n      <td>4.0</td>\n      <td>None</td>\n      <td>nail_polish</td>\n      <td>[]</td>\n      <td>2016-10-01T18:26:50.448Z</td>\n      <td>2017-12-23T20:51:08.413Z</td>\n      <td>http://makeup-api.herokuapp.com/api/v1/product...</td>\n      <td>//s3.amazonaws.com/donovanbailey/products/api_...</td>\n      <td>[{'hex_value': '#394674', 'colour_name': 'Amet...</td>\n    </tr>\n    <tr>\n      <th>2</th>\n      <td>133</td>\n      <td>maybelline</td>\n      <td>Maybelline Color Show Nail Lacquer</td>\n      <td>4.49</td>\n      <td>None</td>\n      <td>None</td>\n      <td>https://d3t32hsnjxo7q6.cloudfront.net/i/a05aa3...</td>\n      <td>https://well.ca/products/maybelline-color-show...</td>\n      <td>https://well.ca</td>\n      <td>High fashion meets high-art. With Maybelline C...</td>\n      <td>3.3</td>\n      <td>None</td>\n      <td>nail_polish</td>\n      <td>[]</td>\n      <td>2016-10-01T18:26:31.673Z</td>\n      <td>2017-12-23T20:51:05.961Z</td>\n      <td>http://makeup-api.herokuapp.com/api/v1/product...</td>\n      <td>//s3.amazonaws.com/donovanbailey/products/api_...</td>\n      <td>[{'hex_value': '#037679', 'colour_name': 'Drop...</td>\n    </tr>\n  </tbody>\n</table>\n</div>"
          },
          "metadata": {}
        }
      ],
      "execution_count": null
    },
    {
      "cell_type": "code",
      "source": "#create a get request for all products that are taged Hypoallergenic, and No Talc. Filter with query params\n\nresponse1 = requests.get('http://makeup-api.herokuapp.com/api/v1/products.json?product_tags=Hypoallergenic,No Talc')\n",
      "metadata": {
        "tags": [],
        "cell_id": "00010-5fc6cc5a-ca49-4d5f-a893-c96b6a7f971c",
        "deepnote_to_be_reexecuted": false,
        "source_hash": "8b79f7d7",
        "execution_millis": 204,
        "execution_start": 1615287742262,
        "deepnote_cell_type": "code"
      },
      "outputs": [],
      "execution_count": 52
    },
    {
      "cell_type": "code",
      "source": "# show the products that come up in the above request\njson_file1 = response1.json()\ndf1= json_normalize(json_file1)\ndf1\n",
      "metadata": {
        "tags": [],
        "cell_id": "00011-66bc4622-f6c7-4796-a88f-af8a16085b68",
        "deepnote_to_be_reexecuted": false,
        "source_hash": "b0ffcc8b",
        "execution_millis": 17,
        "execution_start": 1615287742467,
        "deepnote_cell_type": "code"
      },
      "outputs": [
        {
          "output_type": "execute_result",
          "execution_count": 53,
          "data": {
            "application/vnd.deepnote.dataframe.v2+json": {
              "row_count": 8,
              "column_count": 19,
              "columns": [
                {
                  "name": "id",
                  "dtype": "int64",
                  "stats": {
                    "unique_count": 8,
                    "nan_count": 0,
                    "min": 1006,
                    "max": 1036,
                    "histogram": [
                      {
                        "bin_start": 1006,
                        "bin_end": 1009,
                        "count": 3
                      },
                      {
                        "bin_start": 1009,
                        "bin_end": 1012,
                        "count": 2
                      },
                      {
                        "bin_start": 1012,
                        "bin_end": 1015,
                        "count": 0
                      },
                      {
                        "bin_start": 1015,
                        "bin_end": 1018,
                        "count": 0
                      },
                      {
                        "bin_start": 1018,
                        "bin_end": 1021,
                        "count": 0
                      },
                      {
                        "bin_start": 1021,
                        "bin_end": 1024,
                        "count": 0
                      },
                      {
                        "bin_start": 1024,
                        "bin_end": 1027,
                        "count": 0
                      },
                      {
                        "bin_start": 1027,
                        "bin_end": 1030,
                        "count": 0
                      },
                      {
                        "bin_start": 1030,
                        "bin_end": 1033,
                        "count": 0
                      },
                      {
                        "bin_start": 1033,
                        "bin_end": 1036,
                        "count": 3
                      }
                    ]
                  }
                },
                {
                  "name": "brand",
                  "dtype": "object",
                  "stats": {
                    "unique_count": 3,
                    "nan_count": 0,
                    "categories": [
                      {
                        "name": "c'est moi",
                        "count": 4
                      },
                      {
                        "name": "rejuva minerals",
                        "count": 3
                      },
                      {
                        "name": "coastal classic creation",
                        "count": 1
                      }
                    ]
                  }
                },
                {
                  "name": "name",
                  "dtype": "object",
                  "stats": {
                    "unique_count": 7,
                    "nan_count": 0,
                    "categories": [
                      {
                        "name": "Multi Purpose Powder - Blush & Eye",
                        "count": 2
                      },
                      {
                        "name": "Pressed Powder Foundation",
                        "count": 1
                      },
                      {
                        "name": "5 others",
                        "count": 5
                      }
                    ]
                  }
                },
                {
                  "name": "price",
                  "dtype": "object",
                  "stats": {
                    "unique_count": 1,
                    "nan_count": 0,
                    "categories": [
                      {
                        "name": "0.0",
                        "count": 8
                      }
                    ]
                  }
                },
                {
                  "name": "price_sign",
                  "dtype": "object",
                  "stats": {
                    "unique_count": 1,
                    "nan_count": 0,
                    "categories": [
                      {
                        "name": "$",
                        "count": 8
                      }
                    ]
                  }
                },
                {
                  "name": "currency",
                  "dtype": "object",
                  "stats": {
                    "unique_count": 1,
                    "nan_count": 0,
                    "categories": [
                      {
                        "name": "USD",
                        "count": 8
                      }
                    ]
                  }
                },
                {
                  "name": "image_link",
                  "dtype": "object",
                  "stats": {
                    "unique_count": 7,
                    "nan_count": 0,
                    "categories": [
                      {
                        "name": "https://www.purpicks.com/wp-content/uploads/2018/06/Rejuva-Minerals-Multi-Purpose-Powder-Blush-_-Eye-1.jpg",
                        "count": 2
                      },
                      {
                        "name": "https://www.purpicks.com/wp-content/uploads/2018/06/Rejuva-Minerals-Multi-Purpose-Powder-Eye-Shadow-Face-1.jpg",
                        "count": 1
                      },
                      {
                        "name": "5 others",
                        "count": 5
                      }
                    ]
                  }
                },
                {
                  "name": "product_link",
                  "dtype": "object",
                  "stats": {
                    "unique_count": 7,
                    "nan_count": 0,
                    "categories": [
                      {
                        "name": "https://www.purpicks.com/product/rejuva-minerals-multi-purpose-powder-blush-eye/",
                        "count": 2
                      },
                      {
                        "name": "https://www.purpicks.com/product/rejuva-minerals-multi-purpose-powder-eye-shadow-face/",
                        "count": 1
                      },
                      {
                        "name": "5 others",
                        "count": 5
                      }
                    ]
                  }
                },
                {
                  "name": "website_link",
                  "dtype": "object",
                  "stats": {
                    "unique_count": 1,
                    "nan_count": 0,
                    "categories": [
                      {
                        "name": "https://purpicks.com/",
                        "count": 8
                      }
                    ]
                  }
                },
                {
                  "name": "description",
                  "dtype": "object",
                  "stats": {
                    "unique_count": 7,
                    "nan_count": 0,
                    "categories": [
                      {
                        "name": "Our Multi Purpose Pressed Powders may be used for blush or eye shadow. Blended with antioxidants from Certified Organic Fruits, Berries &amp; Botanicals*. Made without any gluten containing ingredients. Mica free Pink Parfait and Papaya will offer a natural, ultra sheer semi-matte finish. The petals from beautiful crushed red roses that are found in Pink Parfait, are valued for their natural color and delightful aroma that they provide! Acai Berry will offer a natural, ultra sheer satin finish (mica added). VEGAN. Image one is Pink Parfait. Image two is Papaya, and image three is Acai Berry. Model in image four is wearing Papaya. Model in image five is wearing Acai Berry. To see a demonstration of Papaya, click on the video and fast forward to 3:44. Enjoy! This product is EWG VERIFIED&#x2122; and rated 'CLEAN'in the Think Dirty app! BPA and Phthalate free packaging. Plastic parts of compacts are recyclable. *Tiny flecks of fruit and botanical particles may be visible in powder. Pink Parfait and Papaya are Titanium Dioxide and Mica free. Net Weight: 2.8 gm.",
                        "count": 2
                      },
                      {
                        "name": "Coconut Cream - Warm Undertones (yellow) Light Shade. May also be used as a highlighting shade! About our pressed foundations:<ul><li>Provides a silky smooth, natural 'semi-matte' finish</li><li>All skin types</li><li>Will not dry out skin (apply light moisturizer underneath for best results)</li><li>Resists caking and settling in lines and pores</li><li>Layers to provide a light-medium (buildable) coverage</li><li>Eco-friendly, biodegradable compact</li><li>Colored with minerals and enhanced with organic fruits and botanicals</li><li>Infused with conditioning organic jojoba oil</li><li>Formulated without common skin irritants.</li></ul>",
                        "count": 1
                      },
                      {
                        "name": "5 others",
                        "count": 5
                      }
                    ]
                  }
                },
                {
                  "name": "rating",
                  "dtype": "object",
                  "stats": {
                    "unique_count": 0,
                    "nan_count": 8,
                    "categories": [
                      {
                        "name": "Missing",
                        "count": 8
                      }
                    ]
                  }
                },
                {
                  "name": "category",
                  "dtype": "object",
                  "stats": {
                    "unique_count": 5,
                    "nan_count": 0,
                    "categories": [
                      {
                        "name": "",
                        "count": 2
                      },
                      {
                        "name": "powder",
                        "count": 2
                      },
                      {
                        "name": "3 others",
                        "count": 4
                      }
                    ]
                  }
                },
                {
                  "name": "product_type",
                  "dtype": "object",
                  "stats": {
                    "unique_count": 7,
                    "nan_count": 0,
                    "categories": [
                      {
                        "name": "lipstick",
                        "count": 2
                      },
                      {
                        "name": "eyeshadow",
                        "count": 1
                      },
                      {
                        "name": "5 others",
                        "count": 5
                      }
                    ]
                  }
                },
                {
                  "name": "tag_list",
                  "dtype": "object",
                  "stats": {
                    "unique_count": 8,
                    "nan_count": 0,
                    "categories": [
                      {
                        "name": "['purpicks', 'EWG Verified', 'Hypoallergenic', 'No Talc']",
                        "count": 8
                      }
                    ]
                  }
                },
                {
                  "name": "created_at",
                  "dtype": "object",
                  "stats": {
                    "unique_count": 8,
                    "nan_count": 0,
                    "categories": [
                      {
                        "name": "2018-06-30T19:19:31.988Z",
                        "count": 1
                      },
                      {
                        "name": "2018-06-30T19:19:31.909Z",
                        "count": 1
                      },
                      {
                        "name": "6 others",
                        "count": 6
                      }
                    ]
                  }
                },
                {
                  "name": "updated_at",
                  "dtype": "object",
                  "stats": {
                    "unique_count": 8,
                    "nan_count": 0,
                    "categories": [
                      {
                        "name": "2018-09-02T22:52:06.678Z",
                        "count": 1
                      },
                      {
                        "name": "2018-09-02T22:52:06.855Z",
                        "count": 1
                      },
                      {
                        "name": "6 others",
                        "count": 6
                      }
                    ]
                  }
                },
                {
                  "name": "product_api_url",
                  "dtype": "object",
                  "stats": {
                    "unique_count": 8,
                    "nan_count": 0,
                    "categories": [
                      {
                        "name": "http://makeup-api.herokuapp.com/api/v1/products/1036.json",
                        "count": 1
                      },
                      {
                        "name": "http://makeup-api.herokuapp.com/api/v1/products/1035.json",
                        "count": 1
                      },
                      {
                        "name": "6 others",
                        "count": 6
                      }
                    ]
                  }
                },
                {
                  "name": "api_featured_image",
                  "dtype": "object",
                  "stats": {
                    "unique_count": 8,
                    "nan_count": 0,
                    "categories": [
                      {
                        "name": "//s3.amazonaws.com/donovanbailey/products/api_featured_images/000/001/036/original/open-uri20180630-4-ign3hh?1530390384",
                        "count": 1
                      },
                      {
                        "name": "//s3.amazonaws.com/donovanbailey/products/api_featured_images/000/001/035/original/open-uri20180630-4-n6wb0y?1530390383",
                        "count": 1
                      },
                      {
                        "name": "6 others",
                        "count": 6
                      }
                    ]
                  }
                },
                {
                  "name": "product_colors",
                  "dtype": "object",
                  "stats": {
                    "unique_count": 8,
                    "nan_count": 0,
                    "categories": [
                      {
                        "name": "[{'hex_value': '#E1BFC0', 'colour_name': 'Pink Parfait'}, {'hex_value': '#D7A7A3', 'colour_name': 'Papaya'}, {'hex_value': '#E6C3CB', 'colour_name': 'Acai Berry'}]",
                        "count": 2
                      },
                      {
                        "name": "[{'hex_value': '#FBE9CD', 'colour_name': 'Coconut Cream'}, {'hex_value': '#E6B588', 'colour_name': 'Dune'}, {'hex_value': '#EBC8A0', 'colour_name': 'Glow'}, {'hex_value': '#F8E3D5', 'colour_name': 'Nude'}, {'hex_value': '#D8B39B', 'colour_name': 'Radiance'}, {'hex_value': '#E7CDBA', 'colour_name': 'Sand'}, {'hex_value': '#F1C4A8', 'colour_name': 'Sea Shell'}, {'hex_value': '#D1B594', 'colour_name': 'Taffy'}, {'hex_value': '#9C7248', 'colour_name': 'Bahama Mama'}, {'hex_value': '#DDA983', 'colour_name': 'St Tropez'}]",
                        "count": 1
                      },
                      {
                        "name": "5 others",
                        "count": 5
                      }
                    ]
                  }
                },
                {
                  "name": "_deepnote_index_column",
                  "dtype": "int64"
                }
              ],
              "rows_top": [
                {
                  "id": 1036,
                  "brand": "rejuva minerals",
                  "name": "Multi Purpose Powder - Blush & Eye",
                  "price": "0.0",
                  "price_sign": "$",
                  "currency": "USD",
                  "image_link": "https://www.purpicks.com/wp-content/uploads/2018/06/Rejuva-Minerals-Multi-Purpose-Powder-Blush-_-Eye-1.jpg",
                  "product_link": "https://www.purpicks.com/product/rejuva-minerals-multi-purpose-powder-blush-eye/",
                  "website_link": "https://purpicks.com/",
                  "description": "Our Multi Purpose Pressed Powders may be used for blush or eye shadow. Blended with antioxidants from Certified Organic Fruits, Berries &amp; Botanicals*. Made without any gluten containing ingredients. Mica free Pink Parfait and Papaya will offer a natural, ultra sheer semi-matte finish. The petals from beautiful crushed red roses that are found in Pink Parfait, are valued for their natural color and delightful aroma that they provide! Acai Berry will offer a natural, ultra sheer satin finish (mica added). VEGAN. Image one is Pink Parfait. Image two is Papaya, and image three is Acai Berry. Model in image four is wearing Papaya. Model in image five is wearing Acai Berry. To see a demonstration of Papaya, click on the video and fast forward to 3:44. Enjoy! This product is EWG VERIFIED&#x2122; and rated 'CLEAN'in the Think Dirty app! BPA and Phthalate free packaging. Plastic parts of compacts are recyclable. *Tiny flecks of fruit and botanical particles may be visible in powder. Pink Parfait and Papaya are Titanium Dioxide and Mica free. Net Weight: 2.8 gm.",
                  "rating": "nan",
                  "category": "",
                  "product_type": "eyeshadow",
                  "tag_list": "['purpicks', 'EWG Verified', 'Hypoallergenic', 'No Talc']",
                  "created_at": "2018-06-30T19:19:31.988Z",
                  "updated_at": "2018-09-02T22:52:06.678Z",
                  "product_api_url": "http://makeup-api.herokuapp.com/api/v1/products/1036.json",
                  "api_featured_image": "//s3.amazonaws.com/donovanbailey/products/api_featured_images/000/001/036/original/open-uri20180630-4-ign3hh?1530390384",
                  "product_colors": "[{'hex_value': '#E1BFC0', 'colour_name': 'Pink Parfait'}, {'hex_value': '#D7A7A3', 'colour_name': 'Papaya'}, {'hex_value': '#E6C3CB', 'colour_name': 'Acai Berry'}]",
                  "_deepnote_index_column": 0
                },
                {
                  "id": 1035,
                  "brand": "rejuva minerals",
                  "name": "Multi Purpose Powder - Blush & Eye",
                  "price": "0.0",
                  "price_sign": "$",
                  "currency": "USD",
                  "image_link": "https://www.purpicks.com/wp-content/uploads/2018/06/Rejuva-Minerals-Multi-Purpose-Powder-Blush-_-Eye-1.jpg",
                  "product_link": "https://www.purpicks.com/product/rejuva-minerals-multi-purpose-powder-blush-eye/",
                  "website_link": "https://purpicks.com/",
                  "description": "Our Multi Purpose Pressed Powders may be used for blush or eye shadow. Blended with antioxidants from Certified Organic Fruits, Berries &amp; Botanicals*. Made without any gluten containing ingredients. Mica free Pink Parfait and Papaya will offer a natural, ultra sheer semi-matte finish. The petals from beautiful crushed red roses that are found in Pink Parfait, are valued for their natural color and delightful aroma that they provide! Acai Berry will offer a natural, ultra sheer satin finish (mica added). VEGAN. Image one is Pink Parfait. Image two is Papaya, and image three is Acai Berry. Model in image four is wearing Papaya. Model in image five is wearing Acai Berry. To see a demonstration of Papaya, click on the video and fast forward to 3:44. Enjoy! This product is EWG VERIFIED&#x2122; and rated 'CLEAN'in the Think Dirty app! BPA and Phthalate free packaging. Plastic parts of compacts are recyclable. *Tiny flecks of fruit and botanical particles may be visible in powder. Pink Parfait and Papaya are Titanium Dioxide and Mica free. Net Weight: 2.8 gm.",
                  "rating": "nan",
                  "category": "powder",
                  "product_type": "blush",
                  "tag_list": "['purpicks', 'EWG Verified', 'Hypoallergenic', 'No Talc']",
                  "created_at": "2018-06-30T19:19:31.909Z",
                  "updated_at": "2018-09-02T22:52:06.855Z",
                  "product_api_url": "http://makeup-api.herokuapp.com/api/v1/products/1035.json",
                  "api_featured_image": "//s3.amazonaws.com/donovanbailey/products/api_featured_images/000/001/035/original/open-uri20180630-4-n6wb0y?1530390383",
                  "product_colors": "[{'hex_value': '#E1BFC0', 'colour_name': 'Pink Parfait'}, {'hex_value': '#D7A7A3', 'colour_name': 'Papaya'}, {'hex_value': '#E6C3CB', 'colour_name': 'Acai Berry'}]",
                  "_deepnote_index_column": 1
                },
                {
                  "id": 1033,
                  "brand": "rejuva minerals",
                  "name": "Pressed Powder Foundation",
                  "price": "0.0",
                  "price_sign": "$",
                  "currency": "USD",
                  "image_link": "https://www.purpicks.com/wp-content/uploads/2018/06/Rejuva-Minerals-Multi-Purpose-Powder-Eye-Shadow-Face-1.jpg",
                  "product_link": "https://www.purpicks.com/product/rejuva-minerals-multi-purpose-powder-eye-shadow-face/",
                  "website_link": "https://purpicks.com/",
                  "description": "Coconut Cream - Warm Undertones (yellow) Light Shade. May also be used as a highlighting shade! About our pressed foundations:<ul><li>Provides a silky smooth, natural 'semi-matte' finish</li><li>All skin types</li><li>Will not dry out skin (apply light moisturizer underneath for best results)</li><li>Resists caking and settling in lines and pores</li><li>Layers to provide a light-medium (buildable) coverage</li><li>Eco-friendly, biodegradable compact</li><li>Colored with minerals and enhanced with organic fruits and botanicals</li><li>Infused with conditioning organic jojoba oil</li><li>Formulated without common skin irritants.</li></ul>",
                  "rating": "nan",
                  "category": "powder",
                  "product_type": "foundation",
                  "tag_list": "['purpicks', 'EWG Verified', 'Hypoallergenic', 'No Talc']",
                  "created_at": "2018-06-30T19:19:31.736Z",
                  "updated_at": "2018-09-02T22:52:06.652Z",
                  "product_api_url": "http://makeup-api.herokuapp.com/api/v1/products/1033.json",
                  "api_featured_image": "//s3.amazonaws.com/donovanbailey/products/api_featured_images/000/001/033/original/open-uri20180630-4-1mibdm?1530390382",
                  "product_colors": "[{'hex_value': '#FBE9CD', 'colour_name': 'Coconut Cream'}, {'hex_value': '#E6B588', 'colour_name': 'Dune'}, {'hex_value': '#EBC8A0', 'colour_name': 'Glow'}, {'hex_value': '#F8E3D5', 'colour_name': 'Nude'}, {'hex_value': '#D8B39B', 'colour_name': 'Radiance'}, {'hex_value': '#E7CDBA', 'colour_name': 'Sand'}, {'hex_value': '#F1C4A8', 'colour_name': 'Sea Shell'}, {'hex_value': '#D1B594', 'colour_name': 'Taffy'}, {'hex_value': '#9C7248', 'colour_name': 'Bahama Mama'}, {'hex_value': '#DDA983', 'colour_name': 'St Tropez'}]",
                  "_deepnote_index_column": 2
                },
                {
                  "id": 1010,
                  "brand": "coastal classic creation",
                  "name": "Conch Lipstick",
                  "price": "0.0",
                  "price_sign": "$",
                  "currency": "USD",
                  "image_link": "https://www.purpicks.com/wp-content/uploads/2018/06/coastal-classic-creations-conch-lipstick.png",
                  "product_link": "https://www.purpicks.com/product/coastal-classic-creations-conch-lipstick/",
                  "website_link": "https://purpicks.com/",
                  "description": "Coastal Classic Creations Conch Lipstick is a flattering, stylish, rich winterberry color. This lipstick is paraben-free and vegan and contains sunflower oil which is rich in Vitamin E and which may protect against damage from the sun. To boost the product's effectiveness, we add sesame seed oil which contains Vitamins E, D, and B complex to provide moisture and neutralize free radicals. Companions well with Boysenberry Lip Crayon.",
                  "rating": "nan",
                  "category": "lipstick",
                  "product_type": "lipstick",
                  "tag_list": "['purpicks', 'EWG Verified', 'Hypoallergenic', 'No Talc']",
                  "created_at": "2018-06-30T19:19:30.184Z",
                  "updated_at": "2018-09-02T22:52:06.571Z",
                  "product_api_url": "http://makeup-api.herokuapp.com/api/v1/products/1010.json",
                  "api_featured_image": "//s3.amazonaws.com/donovanbailey/products/api_featured_images/000/001/010/original/open-uri20180630-4-dywvay?1530390364",
                  "product_colors": "[{'hex_value': '#822A42', 'colour_name': 'Raspberry'}, {'hex_value': '#8D394F', 'colour_name': 'Conch'}, {'hex_value': '#9F4353', 'colour_name': 'Crushed Rose'}, {'hex_value': '#A15F55', 'colour_name': 'Tender Toffee'}, {'hex_value': '#F09178', 'colour_name': 'Deja Vu'}, {'hex_value': '#B83037', 'colour_name': 'Sun Dial'}, {'hex_value': '#AD4C46', 'colour_name': 'Terra Gold'}, {'hex_value': '#A96B67', 'colour_name': 'Cowry'}, {'hex_value': '#B73849', 'colour_name': 'Tender'}, {'hex_value': '#D06C89', 'colour_name': 'Nautilus'}, {'hex_value': '#C49082', 'colour_name': 'Extremely Nude'}, {'hex_value': '#B78592', 'colour_name': 'Ginger Snap'}, {'hex_value': '#DD786A', 'colour_name': 'Coral Shell'}, {'hex_value': '#E5A4BF', 'colour_name': 'Twilight'}, {'hex_value': '#954D44', 'colour_name': 'Sand Dollar'}]",
                  "_deepnote_index_column": 3
                },
                {
                  "id": 1009,
                  "brand": "c'est moi",
                  "name": "Reflect Lip Gloss",
                  "price": "0.0",
                  "price_sign": "$",
                  "currency": "USD",
                  "image_link": "https://www.purpicks.com/wp-content/uploads/2018/04/cest-moi-reflect-lip-gloss-1.png",
                  "product_link": "https://www.purpicks.com/product/reflect-lip-gloss/",
                  "website_link": "https://purpicks.com/",
                  "description": "These essential lip gloss shades are enriched with a blend of natural and organic oils to deliver the perfect amount of sheer color and shine to lips. Enriched with a blend of natural and organic oils, this essential gloss delivers a wash of sheer color and promises shine—not stickiness. Made for Young Delicate Skin Types NO – Talc, Fragrance, Parabens, Phthalates, Sulfates, Mineral oil or Propylene Glycol Dermatologist Tested Clinically Tested on Sensitive Skin, Hypoallergenic, Made with Natural & Organic Ingredients",
                  "rating": "nan",
                  "category": "lip_gloss",
                  "product_type": "lipstick",
                  "tag_list": "['purpicks', 'EWG Verified', 'Hypoallergenic', 'No Talc']",
                  "created_at": "2018-06-30T19:19:30.116Z",
                  "updated_at": "2018-09-02T22:52:06.562Z",
                  "product_api_url": "http://makeup-api.herokuapp.com/api/v1/products/1009.json",
                  "api_featured_image": "//s3.amazonaws.com/donovanbailey/products/api_featured_images/000/001/009/original/open-uri20180630-4-xznfso?1530390363",
                  "product_colors": "[{'hex_value': '#DF585A', 'colour_name': 'Rise'}, {'hex_value': '#E4CFCE', 'colour_name': 'Opulence'}, {'hex_value': '#D6474B', 'colour_name': 'Bliss'}]",
                  "_deepnote_index_column": 4
                },
                {
                  "id": 1008,
                  "brand": "c'est moi",
                  "name": "Muse Mascara",
                  "price": "0.0",
                  "price_sign": "$",
                  "currency": "USD",
                  "image_link": "https://www.purpicks.com/wp-content/uploads/2018/04/cest-moi-muse-mascara.png",
                  "product_link": "https://www.purpicks.com/product/muse-mascara/",
                  "website_link": "https://purpicks.com/",
                  "description": "Define, lengthen and nourish lashes with organic shea butter, grapeseed and jojoba oils. Lashes are coated gently and evenly without clumping, transferring or flaking. Long, lush lashes begin with this luxe mascara that is formulated with organic shea butter and oils of grape and jojoba seed to help nourish and condition as it lengthens and defines. Velvety and smooth, it coats lashes gently and evenly without clumping, transferring, or flaking. Made for Young Delicate Skin Types. NO – Talc, Fragrance, Parabens, Phthalates, Sulfates, Mineral oil or Propylene Glycol",
                  "rating": "nan",
                  "category": "",
                  "product_type": "mascara",
                  "tag_list": "['purpicks', 'EWG Verified', 'Hypoallergenic', 'No Talc']",
                  "created_at": "2018-06-30T19:19:30.056Z",
                  "updated_at": "2018-09-02T22:52:06.553Z",
                  "product_api_url": "http://makeup-api.herokuapp.com/api/v1/products/1008.json",
                  "api_featured_image": "//s3.amazonaws.com/donovanbailey/products/api_featured_images/000/001/008/original/open-uri20180630-4-bk6ign?1530390362",
                  "product_colors": "[{'hex_value': '#000000', 'colour_name': 'Black'}]",
                  "_deepnote_index_column": 5
                },
                {
                  "id": 1007,
                  "brand": "c'est moi",
                  "name": "Luminary Lip Crayon",
                  "price": "0.0",
                  "price_sign": "$",
                  "currency": "USD",
                  "image_link": "https://www.purpicks.com/wp-content/uploads/2018/04/cest-moi-luminary-lip-crayon.png",
                  "product_link": "https://www.purpicks.com/product/luminary-lip-crayon/",
                  "website_link": "https://purpicks.com/",
                  "description": "These nourishing and creamy lip crayons come in 6 perfectly pigmented shades that go from subtle to statement. This easy-to-use lip crayon delivers velvety application and perfectly pigmented color, plus a nourishing formula with a creamy, consistent texture designed to make your lips appear soft and smooth. Apply sparingly for a subtle look, or generously to make a statement—either way, your lips will feel as beautiful as they look! Made for Young Delicate Skin Types NO – Talc, Fragrance, Parabens, Phthalates, Sulfates, Mineral oil or Propylene Glycol Dermatologist Tested Clinically Tested On Sensitive Skin Hypoallergenic",
                  "rating": "nan",
                  "category": "pencil",
                  "product_type": "lip_liner",
                  "tag_list": "['purpicks', 'EWG Verified', 'Hypoallergenic', 'No Talc']",
                  "created_at": "2018-06-30T19:19:29.975Z",
                  "updated_at": "2018-09-02T22:52:06.545Z",
                  "product_api_url": "http://makeup-api.herokuapp.com/api/v1/products/1007.json",
                  "api_featured_image": "//s3.amazonaws.com/donovanbailey/products/api_featured_images/000/001/007/original/open-uri20180630-4-1m2hvd7?1530390361",
                  "product_colors": "[{'hex_value': '#B89093', 'colour_name': 'Fresh'}, {'hex_value': '#CB7579', 'colour_name': 'True'}, {'hex_value': '#EB5D92', 'colour_name': 'Fierce'}, {'hex_value': '#E74857', 'colour_name': 'Vivid'}, {'hex_value': '#CC5257', 'colour_name': 'Brave'}, {'hex_value': '#65373E', 'colour_name': 'Courage'}]",
                  "_deepnote_index_column": 6
                },
                {
                  "id": 1006,
                  "brand": "c'est moi",
                  "name": "Fearless Eyeliner",
                  "price": "0.0",
                  "price_sign": "$",
                  "currency": "USD",
                  "image_link": "https://www.purpicks.com/wp-content/uploads/2018/04/cest-moi-fearless-eyeliner-pencil.png",
                  "product_link": "https://www.purpicks.com/product/fearless-eyeliner/",
                  "website_link": "https://purpicks.com/",
                  "description": "Make eyes pop with this velvety smooth eyeliner that glides on effortlessly and precisely. Make your eyes pop with this sleek, easy-to-use eyeliner. Formulated with both jojoba seed oil and shea butter, its velvety smooth formula glides on effortlessly and precisely. To sharpen, place inside sharpener and turn the pencil gently to create a working tip. Made for Young Delicate Skin Types NO – Talc, Fragrance, Parabens, Phthalates, Sulfates, Mineral oil or Propylene Glycol  Dermatologist Tested Clinically Tested on Sensitive Skin Hypoallergenic Made with Natural Ingredients",
                  "rating": "nan",
                  "category": "pencil",
                  "product_type": "eyeliner",
                  "tag_list": "['purpicks', 'EWG Verified', 'Hypoallergenic', 'No Talc']",
                  "created_at": "2018-06-30T19:19:29.910Z",
                  "updated_at": "2018-09-02T22:52:06.537Z",
                  "product_api_url": "http://makeup-api.herokuapp.com/api/v1/products/1006.json",
                  "api_featured_image": "//s3.amazonaws.com/donovanbailey/products/api_featured_images/000/001/006/original/open-uri20180630-4-u4c1jh?1530390360",
                  "product_colors": "[{'hex_value': '#B8A89A', 'colour_name': 'Fearless'}]",
                  "_deepnote_index_column": 7
                }
              ],
              "rows_bottom": null
            },
            "text/plain": "     id                     brand                                name price  \\\n0  1036           rejuva minerals  Multi Purpose Powder - Blush & Eye   0.0   \n1  1035           rejuva minerals  Multi Purpose Powder - Blush & Eye   0.0   \n2  1033           rejuva minerals           Pressed Powder Foundation   0.0   \n3  1010  coastal classic creation                      Conch Lipstick   0.0   \n4  1009                 c'est moi                   Reflect Lip Gloss   0.0   \n5  1008                 c'est moi                        Muse Mascara   0.0   \n6  1007                 c'est moi                 Luminary Lip Crayon   0.0   \n7  1006                 c'est moi                   Fearless Eyeliner   0.0   \n\n  price_sign currency                                         image_link  \\\n0          $      USD  https://www.purpicks.com/wp-content/uploads/20...   \n1          $      USD  https://www.purpicks.com/wp-content/uploads/20...   \n2          $      USD  https://www.purpicks.com/wp-content/uploads/20...   \n3          $      USD  https://www.purpicks.com/wp-content/uploads/20...   \n4          $      USD  https://www.purpicks.com/wp-content/uploads/20...   \n5          $      USD  https://www.purpicks.com/wp-content/uploads/20...   \n6          $      USD  https://www.purpicks.com/wp-content/uploads/20...   \n7          $      USD  https://www.purpicks.com/wp-content/uploads/20...   \n\n                                        product_link           website_link  \\\n0  https://www.purpicks.com/product/rejuva-minera...  https://purpicks.com/   \n1  https://www.purpicks.com/product/rejuva-minera...  https://purpicks.com/   \n2  https://www.purpicks.com/product/rejuva-minera...  https://purpicks.com/   \n3  https://www.purpicks.com/product/coastal-class...  https://purpicks.com/   \n4  https://www.purpicks.com/product/reflect-lip-g...  https://purpicks.com/   \n5     https://www.purpicks.com/product/muse-mascara/  https://purpicks.com/   \n6  https://www.purpicks.com/product/luminary-lip-...  https://purpicks.com/   \n7  https://www.purpicks.com/product/fearless-eyel...  https://purpicks.com/   \n\n                                         description rating   category  \\\n0  Our Multi Purpose Pressed Powders may be used ...   None              \n1  Our Multi Purpose Pressed Powders may be used ...   None     powder   \n2  Coconut Cream - Warm Undertones (yellow) Light...   None     powder   \n3  Coastal Classic Creations Conch Lipstick is a ...   None   lipstick   \n4  These essential lip gloss shades are enriched ...   None  lip_gloss   \n5  Define, lengthen and nourish lashes with organ...   None              \n6  These nourishing and creamy lip crayons come i...   None     pencil   \n7  Make eyes pop with this velvety smooth eyeline...   None     pencil   \n\n  product_type                                           tag_list  \\\n0    eyeshadow  [purpicks, EWG Verified, Hypoallergenic, No Talc]   \n1        blush  [purpicks, EWG Verified, Hypoallergenic, No Talc]   \n2   foundation  [purpicks, EWG Verified, Hypoallergenic, No Talc]   \n3     lipstick  [purpicks, EWG Verified, Hypoallergenic, No Talc]   \n4     lipstick  [purpicks, EWG Verified, Hypoallergenic, No Talc]   \n5      mascara  [purpicks, EWG Verified, Hypoallergenic, No Talc]   \n6    lip_liner  [purpicks, EWG Verified, Hypoallergenic, No Talc]   \n7     eyeliner  [purpicks, EWG Verified, Hypoallergenic, No Talc]   \n\n                 created_at                updated_at  \\\n0  2018-06-30T19:19:31.988Z  2018-09-02T22:52:06.678Z   \n1  2018-06-30T19:19:31.909Z  2018-09-02T22:52:06.855Z   \n2  2018-06-30T19:19:31.736Z  2018-09-02T22:52:06.652Z   \n3  2018-06-30T19:19:30.184Z  2018-09-02T22:52:06.571Z   \n4  2018-06-30T19:19:30.116Z  2018-09-02T22:52:06.562Z   \n5  2018-06-30T19:19:30.056Z  2018-09-02T22:52:06.553Z   \n6  2018-06-30T19:19:29.975Z  2018-09-02T22:52:06.545Z   \n7  2018-06-30T19:19:29.910Z  2018-09-02T22:52:06.537Z   \n\n                                     product_api_url  \\\n0  http://makeup-api.herokuapp.com/api/v1/product...   \n1  http://makeup-api.herokuapp.com/api/v1/product...   \n2  http://makeup-api.herokuapp.com/api/v1/product...   \n3  http://makeup-api.herokuapp.com/api/v1/product...   \n4  http://makeup-api.herokuapp.com/api/v1/product...   \n5  http://makeup-api.herokuapp.com/api/v1/product...   \n6  http://makeup-api.herokuapp.com/api/v1/product...   \n7  http://makeup-api.herokuapp.com/api/v1/product...   \n\n                                  api_featured_image  \\\n0  //s3.amazonaws.com/donovanbailey/products/api_...   \n1  //s3.amazonaws.com/donovanbailey/products/api_...   \n2  //s3.amazonaws.com/donovanbailey/products/api_...   \n3  //s3.amazonaws.com/donovanbailey/products/api_...   \n4  //s3.amazonaws.com/donovanbailey/products/api_...   \n5  //s3.amazonaws.com/donovanbailey/products/api_...   \n6  //s3.amazonaws.com/donovanbailey/products/api_...   \n7  //s3.amazonaws.com/donovanbailey/products/api_...   \n\n                                      product_colors  \n0  [{'hex_value': '#E1BFC0', 'colour_name': 'Pink...  \n1  [{'hex_value': '#E1BFC0', 'colour_name': 'Pink...  \n2  [{'hex_value': '#FBE9CD', 'colour_name': 'Coco...  \n3  [{'hex_value': '#822A42', 'colour_name': 'Rasp...  \n4  [{'hex_value': '#DF585A', 'colour_name': 'Rise...  \n5  [{'hex_value': '#000000', 'colour_name': 'Blac...  \n6  [{'hex_value': '#B89093', 'colour_name': 'Fres...  \n7  [{'hex_value': '#B8A89A', 'colour_name': 'Fear...  ",
            "text/html": "<div>\n<style scoped>\n    .dataframe tbody tr th:only-of-type {\n        vertical-align: middle;\n    }\n\n    .dataframe tbody tr th {\n        vertical-align: top;\n    }\n\n    .dataframe thead th {\n        text-align: right;\n    }\n</style>\n<table border=\"1\" class=\"dataframe\">\n  <thead>\n    <tr style=\"text-align: right;\">\n      <th></th>\n      <th>id</th>\n      <th>brand</th>\n      <th>name</th>\n      <th>price</th>\n      <th>price_sign</th>\n      <th>currency</th>\n      <th>image_link</th>\n      <th>product_link</th>\n      <th>website_link</th>\n      <th>description</th>\n      <th>rating</th>\n      <th>category</th>\n      <th>product_type</th>\n      <th>tag_list</th>\n      <th>created_at</th>\n      <th>updated_at</th>\n      <th>product_api_url</th>\n      <th>api_featured_image</th>\n      <th>product_colors</th>\n    </tr>\n  </thead>\n  <tbody>\n    <tr>\n      <th>0</th>\n      <td>1036</td>\n      <td>rejuva minerals</td>\n      <td>Multi Purpose Powder - Blush &amp; Eye</td>\n      <td>0.0</td>\n      <td>$</td>\n      <td>USD</td>\n      <td>https://www.purpicks.com/wp-content/uploads/20...</td>\n      <td>https://www.purpicks.com/product/rejuva-minera...</td>\n      <td>https://purpicks.com/</td>\n      <td>Our Multi Purpose Pressed Powders may be used ...</td>\n      <td>None</td>\n      <td></td>\n      <td>eyeshadow</td>\n      <td>[purpicks, EWG Verified, Hypoallergenic, No Talc]</td>\n      <td>2018-06-30T19:19:31.988Z</td>\n      <td>2018-09-02T22:52:06.678Z</td>\n      <td>http://makeup-api.herokuapp.com/api/v1/product...</td>\n      <td>//s3.amazonaws.com/donovanbailey/products/api_...</td>\n      <td>[{'hex_value': '#E1BFC0', 'colour_name': 'Pink...</td>\n    </tr>\n    <tr>\n      <th>1</th>\n      <td>1035</td>\n      <td>rejuva minerals</td>\n      <td>Multi Purpose Powder - Blush &amp; Eye</td>\n      <td>0.0</td>\n      <td>$</td>\n      <td>USD</td>\n      <td>https://www.purpicks.com/wp-content/uploads/20...</td>\n      <td>https://www.purpicks.com/product/rejuva-minera...</td>\n      <td>https://purpicks.com/</td>\n      <td>Our Multi Purpose Pressed Powders may be used ...</td>\n      <td>None</td>\n      <td>powder</td>\n      <td>blush</td>\n      <td>[purpicks, EWG Verified, Hypoallergenic, No Talc]</td>\n      <td>2018-06-30T19:19:31.909Z</td>\n      <td>2018-09-02T22:52:06.855Z</td>\n      <td>http://makeup-api.herokuapp.com/api/v1/product...</td>\n      <td>//s3.amazonaws.com/donovanbailey/products/api_...</td>\n      <td>[{'hex_value': '#E1BFC0', 'colour_name': 'Pink...</td>\n    </tr>\n    <tr>\n      <th>2</th>\n      <td>1033</td>\n      <td>rejuva minerals</td>\n      <td>Pressed Powder Foundation</td>\n      <td>0.0</td>\n      <td>$</td>\n      <td>USD</td>\n      <td>https://www.purpicks.com/wp-content/uploads/20...</td>\n      <td>https://www.purpicks.com/product/rejuva-minera...</td>\n      <td>https://purpicks.com/</td>\n      <td>Coconut Cream - Warm Undertones (yellow) Light...</td>\n      <td>None</td>\n      <td>powder</td>\n      <td>foundation</td>\n      <td>[purpicks, EWG Verified, Hypoallergenic, No Talc]</td>\n      <td>2018-06-30T19:19:31.736Z</td>\n      <td>2018-09-02T22:52:06.652Z</td>\n      <td>http://makeup-api.herokuapp.com/api/v1/product...</td>\n      <td>//s3.amazonaws.com/donovanbailey/products/api_...</td>\n      <td>[{'hex_value': '#FBE9CD', 'colour_name': 'Coco...</td>\n    </tr>\n    <tr>\n      <th>3</th>\n      <td>1010</td>\n      <td>coastal classic creation</td>\n      <td>Conch Lipstick</td>\n      <td>0.0</td>\n      <td>$</td>\n      <td>USD</td>\n      <td>https://www.purpicks.com/wp-content/uploads/20...</td>\n      <td>https://www.purpicks.com/product/coastal-class...</td>\n      <td>https://purpicks.com/</td>\n      <td>Coastal Classic Creations Conch Lipstick is a ...</td>\n      <td>None</td>\n      <td>lipstick</td>\n      <td>lipstick</td>\n      <td>[purpicks, EWG Verified, Hypoallergenic, No Talc]</td>\n      <td>2018-06-30T19:19:30.184Z</td>\n      <td>2018-09-02T22:52:06.571Z</td>\n      <td>http://makeup-api.herokuapp.com/api/v1/product...</td>\n      <td>//s3.amazonaws.com/donovanbailey/products/api_...</td>\n      <td>[{'hex_value': '#822A42', 'colour_name': 'Rasp...</td>\n    </tr>\n    <tr>\n      <th>4</th>\n      <td>1009</td>\n      <td>c'est moi</td>\n      <td>Reflect Lip Gloss</td>\n      <td>0.0</td>\n      <td>$</td>\n      <td>USD</td>\n      <td>https://www.purpicks.com/wp-content/uploads/20...</td>\n      <td>https://www.purpicks.com/product/reflect-lip-g...</td>\n      <td>https://purpicks.com/</td>\n      <td>These essential lip gloss shades are enriched ...</td>\n      <td>None</td>\n      <td>lip_gloss</td>\n      <td>lipstick</td>\n      <td>[purpicks, EWG Verified, Hypoallergenic, No Talc]</td>\n      <td>2018-06-30T19:19:30.116Z</td>\n      <td>2018-09-02T22:52:06.562Z</td>\n      <td>http://makeup-api.herokuapp.com/api/v1/product...</td>\n      <td>//s3.amazonaws.com/donovanbailey/products/api_...</td>\n      <td>[{'hex_value': '#DF585A', 'colour_name': 'Rise...</td>\n    </tr>\n    <tr>\n      <th>5</th>\n      <td>1008</td>\n      <td>c'est moi</td>\n      <td>Muse Mascara</td>\n      <td>0.0</td>\n      <td>$</td>\n      <td>USD</td>\n      <td>https://www.purpicks.com/wp-content/uploads/20...</td>\n      <td>https://www.purpicks.com/product/muse-mascara/</td>\n      <td>https://purpicks.com/</td>\n      <td>Define, lengthen and nourish lashes with organ...</td>\n      <td>None</td>\n      <td></td>\n      <td>mascara</td>\n      <td>[purpicks, EWG Verified, Hypoallergenic, No Talc]</td>\n      <td>2018-06-30T19:19:30.056Z</td>\n      <td>2018-09-02T22:52:06.553Z</td>\n      <td>http://makeup-api.herokuapp.com/api/v1/product...</td>\n      <td>//s3.amazonaws.com/donovanbailey/products/api_...</td>\n      <td>[{'hex_value': '#000000', 'colour_name': 'Blac...</td>\n    </tr>\n    <tr>\n      <th>6</th>\n      <td>1007</td>\n      <td>c'est moi</td>\n      <td>Luminary Lip Crayon</td>\n      <td>0.0</td>\n      <td>$</td>\n      <td>USD</td>\n      <td>https://www.purpicks.com/wp-content/uploads/20...</td>\n      <td>https://www.purpicks.com/product/luminary-lip-...</td>\n      <td>https://purpicks.com/</td>\n      <td>These nourishing and creamy lip crayons come i...</td>\n      <td>None</td>\n      <td>pencil</td>\n      <td>lip_liner</td>\n      <td>[purpicks, EWG Verified, Hypoallergenic, No Talc]</td>\n      <td>2018-06-30T19:19:29.975Z</td>\n      <td>2018-09-02T22:52:06.545Z</td>\n      <td>http://makeup-api.herokuapp.com/api/v1/product...</td>\n      <td>//s3.amazonaws.com/donovanbailey/products/api_...</td>\n      <td>[{'hex_value': '#B89093', 'colour_name': 'Fres...</td>\n    </tr>\n    <tr>\n      <th>7</th>\n      <td>1006</td>\n      <td>c'est moi</td>\n      <td>Fearless Eyeliner</td>\n      <td>0.0</td>\n      <td>$</td>\n      <td>USD</td>\n      <td>https://www.purpicks.com/wp-content/uploads/20...</td>\n      <td>https://www.purpicks.com/product/fearless-eyel...</td>\n      <td>https://purpicks.com/</td>\n      <td>Make eyes pop with this velvety smooth eyeline...</td>\n      <td>None</td>\n      <td>pencil</td>\n      <td>eyeliner</td>\n      <td>[purpicks, EWG Verified, Hypoallergenic, No Talc]</td>\n      <td>2018-06-30T19:19:29.910Z</td>\n      <td>2018-09-02T22:52:06.537Z</td>\n      <td>http://makeup-api.herokuapp.com/api/v1/product...</td>\n      <td>//s3.amazonaws.com/donovanbailey/products/api_...</td>\n      <td>[{'hex_value': '#B8A89A', 'colour_name': 'Fear...</td>\n    </tr>\n  </tbody>\n</table>\n</div>"
          },
          "metadata": {}
        }
      ],
      "execution_count": 53
    },
    {
      "cell_type": "code",
      "source": "# create a request for all Eyeshadows that are Palettes and Organic. Use the params argument in your get() function\nparams = {'product_type': 'Eyeshadow',\n            'product_category': 'Palette',\n            'product_tags' :'Organic'} \nresponse3 = requests.get('http://makeup-api.herokuapp.com/api/v1/products.json', params = params)\njson_file3 = response3.json()\ndf3= json_normalize(json_file3)\ndf3\n",
      "metadata": {
        "tags": [],
        "cell_id": "00012-062b60c7-ada6-4e9b-b4ba-e521a634c9fc",
        "deepnote_to_be_reexecuted": false,
        "source_hash": "e8cfd556",
        "execution_millis": 105,
        "execution_start": 1615285819309,
        "deepnote_cell_type": "code"
      },
      "outputs": [
        {
          "output_type": "execute_result",
          "execution_count": 13,
          "data": {
            "application/vnd.deepnote.dataframe.v2+json": {
              "row_count": 5,
              "column_count": 19,
              "columns": [
                {
                  "name": "id",
                  "dtype": "int64",
                  "stats": {
                    "unique_count": 5,
                    "nan_count": 0,
                    "min": 1012,
                    "max": 1016,
                    "histogram": [
                      {
                        "bin_start": 1012,
                        "bin_end": 1012.4,
                        "count": 1
                      },
                      {
                        "bin_start": 1012.4,
                        "bin_end": 1012.8,
                        "count": 0
                      },
                      {
                        "bin_start": 1012.8,
                        "bin_end": 1013.2,
                        "count": 1
                      },
                      {
                        "bin_start": 1013.2,
                        "bin_end": 1013.6,
                        "count": 0
                      },
                      {
                        "bin_start": 1013.6,
                        "bin_end": 1014,
                        "count": 0
                      },
                      {
                        "bin_start": 1014,
                        "bin_end": 1014.4,
                        "count": 1
                      },
                      {
                        "bin_start": 1014.4,
                        "bin_end": 1014.8,
                        "count": 0
                      },
                      {
                        "bin_start": 1014.8,
                        "bin_end": 1015.2,
                        "count": 1
                      },
                      {
                        "bin_start": 1015.2,
                        "bin_end": 1015.6,
                        "count": 0
                      },
                      {
                        "bin_start": 1015.6,
                        "bin_end": 1016,
                        "count": 1
                      }
                    ]
                  }
                },
                {
                  "name": "brand",
                  "dtype": "object",
                  "stats": {
                    "unique_count": 1,
                    "nan_count": 0,
                    "categories": [
                      {
                        "name": "lotus cosmetics usa",
                        "count": 5
                      }
                    ]
                  }
                },
                {
                  "name": "name",
                  "dtype": "object",
                  "stats": {
                    "unique_count": 5,
                    "nan_count": 0,
                    "categories": [
                      {
                        "name": "Eye Shadow Palette Mesmerize",
                        "count": 1
                      },
                      {
                        "name": "Eye Shadow Palette Deluxe",
                        "count": 1
                      },
                      {
                        "name": "3 others",
                        "count": 3
                      }
                    ]
                  }
                },
                {
                  "name": "price",
                  "dtype": "object",
                  "stats": {
                    "unique_count": 1,
                    "nan_count": 0,
                    "categories": [
                      {
                        "name": "0.0",
                        "count": 5
                      }
                    ]
                  }
                },
                {
                  "name": "price_sign",
                  "dtype": "object",
                  "stats": {
                    "unique_count": 1,
                    "nan_count": 0,
                    "categories": [
                      {
                        "name": "$",
                        "count": 5
                      }
                    ]
                  }
                },
                {
                  "name": "currency",
                  "dtype": "object",
                  "stats": {
                    "unique_count": 1,
                    "nan_count": 0,
                    "categories": [
                      {
                        "name": "USD",
                        "count": 5
                      }
                    ]
                  }
                },
                {
                  "name": "image_link",
                  "dtype": "object",
                  "stats": {
                    "unique_count": 5,
                    "nan_count": 0,
                    "categories": [
                      {
                        "name": "http://www.purpicks.com/wp-content/uploads/2018/03/lotus-cosmetics-usa-eye-shadow-palette-mesmerize.png",
                        "count": 1
                      },
                      {
                        "name": "http://www.purpicks.com/wp-content/uploads/2018/03/lotus-cosmetics-usa-eye-shadow-palette-deluxe.png",
                        "count": 1
                      },
                      {
                        "name": "3 others",
                        "count": 3
                      }
                    ]
                  }
                },
                {
                  "name": "product_link",
                  "dtype": "object",
                  "stats": {
                    "unique_count": 1,
                    "nan_count": 0,
                    "categories": [
                      {
                        "name": "https://www.purpicks.com/product/lotus-cosmetics-usa/",
                        "count": 5
                      }
                    ]
                  }
                },
                {
                  "name": "website_link",
                  "dtype": "object",
                  "stats": {
                    "unique_count": 1,
                    "nan_count": 0,
                    "categories": [
                      {
                        "name": "https://purpicks.com/",
                        "count": 5
                      }
                    ]
                  }
                },
                {
                  "name": "description",
                  "dtype": "object",
                  "stats": {
                    "unique_count": 1,
                    "nan_count": 0,
                    "categories": [
                      {
                        "name": "A four-color eyeshadow palette infused with natural minerals and antioxidant rich extracts to help prevent fine lines and wrinkles. Easily blendable shades give you the ability to create effortlessly natural or dramatic looks. Made with natural and organic ingredients.",
                        "count": 5
                      }
                    ]
                  }
                },
                {
                  "name": "rating",
                  "dtype": "object",
                  "stats": {
                    "unique_count": 0,
                    "nan_count": 5,
                    "categories": [
                      {
                        "name": "Missing",
                        "count": 5
                      }
                    ]
                  }
                },
                {
                  "name": "category",
                  "dtype": "object",
                  "stats": {
                    "unique_count": 1,
                    "nan_count": 0,
                    "categories": [
                      {
                        "name": "palette",
                        "count": 5
                      }
                    ]
                  }
                },
                {
                  "name": "product_type",
                  "dtype": "object",
                  "stats": {
                    "unique_count": 1,
                    "nan_count": 0,
                    "categories": [
                      {
                        "name": "eyeshadow",
                        "count": 5
                      }
                    ]
                  }
                },
                {
                  "name": "tag_list",
                  "dtype": "object",
                  "stats": {
                    "unique_count": 5,
                    "nan_count": 0,
                    "categories": [
                      {
                        "name": "['purpicks', 'USDA Organic', 'Organic']",
                        "count": 5
                      }
                    ]
                  }
                },
                {
                  "name": "created_at",
                  "dtype": "object",
                  "stats": {
                    "unique_count": 5,
                    "nan_count": 0,
                    "categories": [
                      {
                        "name": "2018-06-30T19:19:30.618Z",
                        "count": 1
                      },
                      {
                        "name": "2018-06-30T19:19:30.555Z",
                        "count": 1
                      },
                      {
                        "name": "3 others",
                        "count": 3
                      }
                    ]
                  }
                },
                {
                  "name": "updated_at",
                  "dtype": "object",
                  "stats": {
                    "unique_count": 5,
                    "nan_count": 0,
                    "categories": [
                      {
                        "name": "2018-09-02T22:52:06.804Z",
                        "count": 1
                      },
                      {
                        "name": "2018-09-02T22:52:06.788Z",
                        "count": 1
                      },
                      {
                        "name": "3 others",
                        "count": 3
                      }
                    ]
                  }
                },
                {
                  "name": "product_api_url",
                  "dtype": "object",
                  "stats": {
                    "unique_count": 5,
                    "nan_count": 0,
                    "categories": [
                      {
                        "name": "http://makeup-api.herokuapp.com/api/v1/products/1016.json",
                        "count": 1
                      },
                      {
                        "name": "http://makeup-api.herokuapp.com/api/v1/products/1015.json",
                        "count": 1
                      },
                      {
                        "name": "3 others",
                        "count": 3
                      }
                    ]
                  }
                },
                {
                  "name": "api_featured_image",
                  "dtype": "object",
                  "stats": {
                    "unique_count": 5,
                    "nan_count": 0,
                    "categories": [
                      {
                        "name": "//s3.amazonaws.com/donovanbailey/products/api_featured_images/000/001/016/original/open-uri20180630-4-1mmjptw?1530390369",
                        "count": 1
                      },
                      {
                        "name": "//s3.amazonaws.com/donovanbailey/products/api_featured_images/000/001/015/original/open-uri20180630-4-egfs2g?1530390369",
                        "count": 1
                      },
                      {
                        "name": "3 others",
                        "count": 3
                      }
                    ]
                  }
                },
                {
                  "name": "product_colors",
                  "dtype": "object",
                  "stats": {
                    "unique_count": 5,
                    "nan_count": 0,
                    "categories": [
                      {
                        "name": "[{'hex_value': '#FDF5EB', 'colour_name': 'Color 1'}, {'hex_value': '#F5CFBC', 'colour_name': 'Color 2'}, {'hex_value': '#B57F57', 'colour_name': 'Color 3'}, {'hex_value': '#A39796', 'colour_name': 'Color 4'}]",
                        "count": 1
                      },
                      {
                        "name": "[{'hex_value': '#F4DACA', 'colour_name': 'Color 1'}, {'hex_value': '#C89281', 'colour_name': 'Color 2'}, {'hex_value': '#4F7386', 'colour_name': 'Color 3'}, {'hex_value': '#9D9484', 'colour_name': 'Color 4'}]",
                        "count": 1
                      },
                      {
                        "name": "3 others",
                        "count": 3
                      }
                    ]
                  }
                },
                {
                  "name": "_deepnote_index_column",
                  "dtype": "int64"
                }
              ],
              "rows_top": [
                {
                  "id": 1016,
                  "brand": "lotus cosmetics usa",
                  "name": "Eye Shadow Palette Mesmerize",
                  "price": "0.0",
                  "price_sign": "$",
                  "currency": "USD",
                  "image_link": "http://www.purpicks.com/wp-content/uploads/2018/03/lotus-cosmetics-usa-eye-shadow-palette-mesmerize.png",
                  "product_link": "https://www.purpicks.com/product/lotus-cosmetics-usa/",
                  "website_link": "https://purpicks.com/",
                  "description": "A four-color eyeshadow palette infused with natural minerals and antioxidant rich extracts to help prevent fine lines and wrinkles. Easily blendable shades give you the ability to create effortlessly natural or dramatic looks. Made with natural and organic ingredients.",
                  "rating": "nan",
                  "category": "palette",
                  "product_type": "eyeshadow",
                  "tag_list": "['purpicks', 'USDA Organic', 'Organic']",
                  "created_at": "2018-06-30T19:19:30.618Z",
                  "updated_at": "2018-09-02T22:52:06.804Z",
                  "product_api_url": "http://makeup-api.herokuapp.com/api/v1/products/1016.json",
                  "api_featured_image": "//s3.amazonaws.com/donovanbailey/products/api_featured_images/000/001/016/original/open-uri20180630-4-1mmjptw?1530390369",
                  "product_colors": "[{'hex_value': '#FDF5EB', 'colour_name': 'Color 1'}, {'hex_value': '#F5CFBC', 'colour_name': 'Color 2'}, {'hex_value': '#B57F57', 'colour_name': 'Color 3'}, {'hex_value': '#A39796', 'colour_name': 'Color 4'}]",
                  "_deepnote_index_column": 0
                },
                {
                  "id": 1015,
                  "brand": "lotus cosmetics usa",
                  "name": "Eye Shadow Palette Deluxe",
                  "price": "0.0",
                  "price_sign": "$",
                  "currency": "USD",
                  "image_link": "http://www.purpicks.com/wp-content/uploads/2018/03/lotus-cosmetics-usa-eye-shadow-palette-deluxe.png",
                  "product_link": "https://www.purpicks.com/product/lotus-cosmetics-usa/",
                  "website_link": "https://purpicks.com/",
                  "description": "A four-color eyeshadow palette infused with natural minerals and antioxidant rich extracts to help prevent fine lines and wrinkles. Easily blendable shades give you the ability to create effortlessly natural or dramatic looks. Made with natural and organic ingredients.",
                  "rating": "nan",
                  "category": "palette",
                  "product_type": "eyeshadow",
                  "tag_list": "['purpicks', 'USDA Organic', 'Organic']",
                  "created_at": "2018-06-30T19:19:30.555Z",
                  "updated_at": "2018-09-02T22:52:06.788Z",
                  "product_api_url": "http://makeup-api.herokuapp.com/api/v1/products/1015.json",
                  "api_featured_image": "//s3.amazonaws.com/donovanbailey/products/api_featured_images/000/001/015/original/open-uri20180630-4-egfs2g?1530390369",
                  "product_colors": "[{'hex_value': '#F4DACA', 'colour_name': 'Color 1'}, {'hex_value': '#C89281', 'colour_name': 'Color 2'}, {'hex_value': '#4F7386', 'colour_name': 'Color 3'}, {'hex_value': '#9D9484', 'colour_name': 'Color 4'}]",
                  "_deepnote_index_column": 1
                },
                {
                  "id": 1014,
                  "brand": "lotus cosmetics usa",
                  "name": "Eye Shadow Palette Smokey",
                  "price": "0.0",
                  "price_sign": "$",
                  "currency": "USD",
                  "image_link": "http://www.purpicks.com/wp-content/uploads/2018/03/lotus-cosmetics-usa-eye-shadow-palette-smokey.png",
                  "product_link": "https://www.purpicks.com/product/lotus-cosmetics-usa/",
                  "website_link": "https://purpicks.com/",
                  "description": "A four-color eyeshadow palette infused with natural minerals and antioxidant rich extracts to help prevent fine lines and wrinkles. Easily blendable shades give you the ability to create effortlessly natural or dramatic looks. Made with natural and organic ingredients.",
                  "rating": "nan",
                  "category": "palette",
                  "product_type": "eyeshadow",
                  "tag_list": "['purpicks', 'USDA Organic', 'Organic']",
                  "created_at": "2018-06-30T19:19:30.490Z",
                  "updated_at": "2018-09-02T22:52:06.773Z",
                  "product_api_url": "http://makeup-api.herokuapp.com/api/v1/products/1014.json",
                  "api_featured_image": "//s3.amazonaws.com/donovanbailey/products/api_featured_images/000/001/014/original/open-uri20180630-4-1y604g6?1530390368",
                  "product_colors": "[{'hex_value': '#7F946E', 'colour_name': 'Color 1'}, {'hex_value': '#C8B38A', 'colour_name': 'Color 2'}, {'hex_value': '#668D9F', 'colour_name': 'Color 3'}, {'hex_value': '#36312C', 'colour_name': 'Color 4'}]",
                  "_deepnote_index_column": 2
                },
                {
                  "id": 1013,
                  "brand": "lotus cosmetics usa",
                  "name": "Eye Shadow Palette Seduction",
                  "price": "0.0",
                  "price_sign": "$",
                  "currency": "USD",
                  "image_link": "http://www.purpicks.com/wp-content/uploads/2018/03/lotus-cosmetics-usa-eye-shadow-palette-seduction.png",
                  "product_link": "https://www.purpicks.com/product/lotus-cosmetics-usa/",
                  "website_link": "https://purpicks.com/",
                  "description": "A four-color eyeshadow palette infused with natural minerals and antioxidant rich extracts to help prevent fine lines and wrinkles. Easily blendable shades give you the ability to create effortlessly natural or dramatic looks. Made with natural and organic ingredients.",
                  "rating": "nan",
                  "category": "palette",
                  "product_type": "eyeshadow",
                  "tag_list": "['purpicks', 'USDA Organic', 'Organic']",
                  "created_at": "2018-06-30T19:19:30.422Z",
                  "updated_at": "2018-09-02T22:52:06.762Z",
                  "product_api_url": "http://makeup-api.herokuapp.com/api/v1/products/1013.json",
                  "api_featured_image": "//s3.amazonaws.com/donovanbailey/products/api_featured_images/000/001/013/original/open-uri20180630-4-1x4t7kg?1530390367",
                  "product_colors": "[{'hex_value': '#EBBC9D', 'colour_name': 'Color 1'}, {'hex_value': '#EFB1B0', 'colour_name': 'Color 2'}, {'hex_value': '#5E3A31', 'colour_name': 'Color 3'}, {'hex_value': '#72504A', 'colour_name': 'Color 4'}]",
                  "_deepnote_index_column": 3
                },
                {
                  "id": 1012,
                  "brand": "lotus cosmetics usa",
                  "name": "Eye Shadow Palette Cocoa",
                  "price": "0.0",
                  "price_sign": "$",
                  "currency": "USD",
                  "image_link": "https://www.purpicks.com/wp-content/uploads/2018/03/lotus-cosmetics-usa-eye-shadow-palette-cocoa.png",
                  "product_link": "https://www.purpicks.com/product/lotus-cosmetics-usa/",
                  "website_link": "https://purpicks.com/",
                  "description": "A four-color eyeshadow palette infused with natural minerals and antioxidant rich extracts to help prevent fine lines and wrinkles. Easily blendable shades give you the ability to create effortlessly natural or dramatic looks. Made with natural and organic ingredients.",
                  "rating": "nan",
                  "category": "palette",
                  "product_type": "eyeshadow",
                  "tag_list": "['purpicks', 'USDA Organic', 'Organic']",
                  "created_at": "2018-06-30T19:19:30.347Z",
                  "updated_at": "2018-09-02T22:52:06.753Z",
                  "product_api_url": "http://makeup-api.herokuapp.com/api/v1/products/1012.json",
                  "api_featured_image": "//s3.amazonaws.com/donovanbailey/products/api_featured_images/000/001/012/original/open-uri20180630-4-1rlpw5a?1530390367",
                  "product_colors": "[{'hex_value': '#E7CBB7', 'colour_name': 'Color 1'}, {'hex_value': '#BE9794', 'colour_name': 'Color 2'}, {'hex_value': '#B5816B', 'colour_name': 'Color 3'}, {'hex_value': '#9E6D64', 'colour_name': 'Color 4'}]",
                  "_deepnote_index_column": 4
                }
              ],
              "rows_bottom": null
            },
            "text/plain": "     id                brand                          name price price_sign  \\\n0  1016  lotus cosmetics usa  Eye Shadow Palette Mesmerize   0.0          $   \n1  1015  lotus cosmetics usa     Eye Shadow Palette Deluxe   0.0          $   \n2  1014  lotus cosmetics usa     Eye Shadow Palette Smokey   0.0          $   \n3  1013  lotus cosmetics usa  Eye Shadow Palette Seduction   0.0          $   \n4  1012  lotus cosmetics usa      Eye Shadow Palette Cocoa   0.0          $   \n\n  currency                                         image_link  \\\n0      USD  http://www.purpicks.com/wp-content/uploads/201...   \n1      USD  http://www.purpicks.com/wp-content/uploads/201...   \n2      USD  http://www.purpicks.com/wp-content/uploads/201...   \n3      USD  http://www.purpicks.com/wp-content/uploads/201...   \n4      USD  https://www.purpicks.com/wp-content/uploads/20...   \n\n                                        product_link           website_link  \\\n0  https://www.purpicks.com/product/lotus-cosmeti...  https://purpicks.com/   \n1  https://www.purpicks.com/product/lotus-cosmeti...  https://purpicks.com/   \n2  https://www.purpicks.com/product/lotus-cosmeti...  https://purpicks.com/   \n3  https://www.purpicks.com/product/lotus-cosmeti...  https://purpicks.com/   \n4  https://www.purpicks.com/product/lotus-cosmeti...  https://purpicks.com/   \n\n                                         description rating category  \\\n0  A four-color eyeshadow palette infused with na...   None  palette   \n1  A four-color eyeshadow palette infused with na...   None  palette   \n2  A four-color eyeshadow palette infused with na...   None  palette   \n3  A four-color eyeshadow palette infused with na...   None  palette   \n4  A four-color eyeshadow palette infused with na...   None  palette   \n\n  product_type                           tag_list                created_at  \\\n0    eyeshadow  [purpicks, USDA Organic, Organic]  2018-06-30T19:19:30.618Z   \n1    eyeshadow  [purpicks, USDA Organic, Organic]  2018-06-30T19:19:30.555Z   \n2    eyeshadow  [purpicks, USDA Organic, Organic]  2018-06-30T19:19:30.490Z   \n3    eyeshadow  [purpicks, USDA Organic, Organic]  2018-06-30T19:19:30.422Z   \n4    eyeshadow  [purpicks, USDA Organic, Organic]  2018-06-30T19:19:30.347Z   \n\n                 updated_at  \\\n0  2018-09-02T22:52:06.804Z   \n1  2018-09-02T22:52:06.788Z   \n2  2018-09-02T22:52:06.773Z   \n3  2018-09-02T22:52:06.762Z   \n4  2018-09-02T22:52:06.753Z   \n\n                                     product_api_url  \\\n0  http://makeup-api.herokuapp.com/api/v1/product...   \n1  http://makeup-api.herokuapp.com/api/v1/product...   \n2  http://makeup-api.herokuapp.com/api/v1/product...   \n3  http://makeup-api.herokuapp.com/api/v1/product...   \n4  http://makeup-api.herokuapp.com/api/v1/product...   \n\n                                  api_featured_image  \\\n0  //s3.amazonaws.com/donovanbailey/products/api_...   \n1  //s3.amazonaws.com/donovanbailey/products/api_...   \n2  //s3.amazonaws.com/donovanbailey/products/api_...   \n3  //s3.amazonaws.com/donovanbailey/products/api_...   \n4  //s3.amazonaws.com/donovanbailey/products/api_...   \n\n                                      product_colors  \n0  [{'hex_value': '#FDF5EB', 'colour_name': 'Colo...  \n1  [{'hex_value': '#F4DACA', 'colour_name': 'Colo...  \n2  [{'hex_value': '#7F946E', 'colour_name': 'Colo...  \n3  [{'hex_value': '#EBBC9D', 'colour_name': 'Colo...  \n4  [{'hex_value': '#E7CBB7', 'colour_name': 'Colo...  ",
            "text/html": "<div>\n<style scoped>\n    .dataframe tbody tr th:only-of-type {\n        vertical-align: middle;\n    }\n\n    .dataframe tbody tr th {\n        vertical-align: top;\n    }\n\n    .dataframe thead th {\n        text-align: right;\n    }\n</style>\n<table border=\"1\" class=\"dataframe\">\n  <thead>\n    <tr style=\"text-align: right;\">\n      <th></th>\n      <th>id</th>\n      <th>brand</th>\n      <th>name</th>\n      <th>price</th>\n      <th>price_sign</th>\n      <th>currency</th>\n      <th>image_link</th>\n      <th>product_link</th>\n      <th>website_link</th>\n      <th>description</th>\n      <th>rating</th>\n      <th>category</th>\n      <th>product_type</th>\n      <th>tag_list</th>\n      <th>created_at</th>\n      <th>updated_at</th>\n      <th>product_api_url</th>\n      <th>api_featured_image</th>\n      <th>product_colors</th>\n    </tr>\n  </thead>\n  <tbody>\n    <tr>\n      <th>0</th>\n      <td>1016</td>\n      <td>lotus cosmetics usa</td>\n      <td>Eye Shadow Palette Mesmerize</td>\n      <td>0.0</td>\n      <td>$</td>\n      <td>USD</td>\n      <td>http://www.purpicks.com/wp-content/uploads/201...</td>\n      <td>https://www.purpicks.com/product/lotus-cosmeti...</td>\n      <td>https://purpicks.com/</td>\n      <td>A four-color eyeshadow palette infused with na...</td>\n      <td>None</td>\n      <td>palette</td>\n      <td>eyeshadow</td>\n      <td>[purpicks, USDA Organic, Organic]</td>\n      <td>2018-06-30T19:19:30.618Z</td>\n      <td>2018-09-02T22:52:06.804Z</td>\n      <td>http://makeup-api.herokuapp.com/api/v1/product...</td>\n      <td>//s3.amazonaws.com/donovanbailey/products/api_...</td>\n      <td>[{'hex_value': '#FDF5EB', 'colour_name': 'Colo...</td>\n    </tr>\n    <tr>\n      <th>1</th>\n      <td>1015</td>\n      <td>lotus cosmetics usa</td>\n      <td>Eye Shadow Palette Deluxe</td>\n      <td>0.0</td>\n      <td>$</td>\n      <td>USD</td>\n      <td>http://www.purpicks.com/wp-content/uploads/201...</td>\n      <td>https://www.purpicks.com/product/lotus-cosmeti...</td>\n      <td>https://purpicks.com/</td>\n      <td>A four-color eyeshadow palette infused with na...</td>\n      <td>None</td>\n      <td>palette</td>\n      <td>eyeshadow</td>\n      <td>[purpicks, USDA Organic, Organic]</td>\n      <td>2018-06-30T19:19:30.555Z</td>\n      <td>2018-09-02T22:52:06.788Z</td>\n      <td>http://makeup-api.herokuapp.com/api/v1/product...</td>\n      <td>//s3.amazonaws.com/donovanbailey/products/api_...</td>\n      <td>[{'hex_value': '#F4DACA', 'colour_name': 'Colo...</td>\n    </tr>\n    <tr>\n      <th>2</th>\n      <td>1014</td>\n      <td>lotus cosmetics usa</td>\n      <td>Eye Shadow Palette Smokey</td>\n      <td>0.0</td>\n      <td>$</td>\n      <td>USD</td>\n      <td>http://www.purpicks.com/wp-content/uploads/201...</td>\n      <td>https://www.purpicks.com/product/lotus-cosmeti...</td>\n      <td>https://purpicks.com/</td>\n      <td>A four-color eyeshadow palette infused with na...</td>\n      <td>None</td>\n      <td>palette</td>\n      <td>eyeshadow</td>\n      <td>[purpicks, USDA Organic, Organic]</td>\n      <td>2018-06-30T19:19:30.490Z</td>\n      <td>2018-09-02T22:52:06.773Z</td>\n      <td>http://makeup-api.herokuapp.com/api/v1/product...</td>\n      <td>//s3.amazonaws.com/donovanbailey/products/api_...</td>\n      <td>[{'hex_value': '#7F946E', 'colour_name': 'Colo...</td>\n    </tr>\n    <tr>\n      <th>3</th>\n      <td>1013</td>\n      <td>lotus cosmetics usa</td>\n      <td>Eye Shadow Palette Seduction</td>\n      <td>0.0</td>\n      <td>$</td>\n      <td>USD</td>\n      <td>http://www.purpicks.com/wp-content/uploads/201...</td>\n      <td>https://www.purpicks.com/product/lotus-cosmeti...</td>\n      <td>https://purpicks.com/</td>\n      <td>A four-color eyeshadow palette infused with na...</td>\n      <td>None</td>\n      <td>palette</td>\n      <td>eyeshadow</td>\n      <td>[purpicks, USDA Organic, Organic]</td>\n      <td>2018-06-30T19:19:30.422Z</td>\n      <td>2018-09-02T22:52:06.762Z</td>\n      <td>http://makeup-api.herokuapp.com/api/v1/product...</td>\n      <td>//s3.amazonaws.com/donovanbailey/products/api_...</td>\n      <td>[{'hex_value': '#EBBC9D', 'colour_name': 'Colo...</td>\n    </tr>\n    <tr>\n      <th>4</th>\n      <td>1012</td>\n      <td>lotus cosmetics usa</td>\n      <td>Eye Shadow Palette Cocoa</td>\n      <td>0.0</td>\n      <td>$</td>\n      <td>USD</td>\n      <td>https://www.purpicks.com/wp-content/uploads/20...</td>\n      <td>https://www.purpicks.com/product/lotus-cosmeti...</td>\n      <td>https://purpicks.com/</td>\n      <td>A four-color eyeshadow palette infused with na...</td>\n      <td>None</td>\n      <td>palette</td>\n      <td>eyeshadow</td>\n      <td>[purpicks, USDA Organic, Organic]</td>\n      <td>2018-06-30T19:19:30.347Z</td>\n      <td>2018-09-02T22:52:06.753Z</td>\n      <td>http://makeup-api.herokuapp.com/api/v1/product...</td>\n      <td>//s3.amazonaws.com/donovanbailey/products/api_...</td>\n      <td>[{'hex_value': '#E7CBB7', 'colour_name': 'Colo...</td>\n    </tr>\n  </tbody>\n</table>\n</div>"
          },
          "metadata": {}
        }
      ],
      "execution_count": 13
    },
    {
      "cell_type": "code",
      "source": "# what brand are the above eyeshadows? \n#lotus cosmetics USA",
      "metadata": {
        "tags": [],
        "cell_id": "00013-b69f80a7-3704-4546-8951-76ddcf5750b6",
        "deepnote_to_be_reexecuted": false,
        "source_hash": "2c17eb35",
        "execution_millis": 1,
        "execution_start": 1615285914437,
        "deepnote_cell_type": "code"
      },
      "outputs": [],
      "execution_count": 14
    },
    {
      "cell_type": "code",
      "source": "# create a request for all lipsticks that are chemical free. Use the params argument in the get() function\nparams = {'product_type': 'lipstick',\n            'product_tags' :'Chemical free '} \nresponse4 = requests.get('http://makeup-api.herokuapp.com/api/v1/products.json', params = params)\n",
      "metadata": {
        "tags": [],
        "cell_id": "00014-be747c42-7596-4065-83fc-a14eeb2d70f7",
        "deepnote_to_be_reexecuted": false,
        "source_hash": "ed58a923",
        "execution_millis": 27,
        "execution_start": 1615286063963,
        "deepnote_cell_type": "code"
      },
      "outputs": [],
      "execution_count": 17
    },
    {
      "cell_type": "code",
      "source": "#output the json file for above\njson_file4 = response4.json()\njson_file4\n",
      "metadata": {
        "tags": [],
        "cell_id": "00015-9bf6c6cf-11d0-4969-ae80-868affe2af6e",
        "deepnote_to_be_reexecuted": false,
        "source_hash": "62b47e39",
        "execution_millis": 18,
        "execution_start": 1615286106570,
        "deepnote_cell_type": "code"
      },
      "outputs": [
        {
          "output_type": "execute_result",
          "execution_count": 19,
          "data": {
            "text/plain": "[{'id': 1044,\n  'brand': 'boosh',\n  'name': 'Lipstick',\n  'price': '26.0',\n  'price_sign': '$',\n  'currency': 'CAD',\n  'image_link': 'https://cdn.shopify.com/s/files/1/1016/3243/products/LIPBALM_LID_grande.jpg?v=1496848378',\n  'product_link': 'https://www.boosh.ca/collections/all',\n  'website_link': 'https://www.boosh.ca/',\n  'description': 'All of our products are free from lead and heavy metals, parabens, phthalates, artificial colourants, and synthetic fragrances.  Boosh lipstick glides on smoothly for clean & protective SPF coverage. They are filled with hydrating oils and butters to preserve and enhance your lips natural surface. Organic sweet orange oil gives a light and cheerful scent.',\n  'rating': None,\n  'category': 'lipstick',\n  'product_type': 'lipstick',\n  'tag_list': ['Chemical Free', 'Organic'],\n  'created_at': '2018-07-08T17:32:28.088Z',\n  'updated_at': '2018-09-02T22:52:06.669Z',\n  'product_api_url': 'http://makeup-api.herokuapp.com/api/v1/products/1044.json',\n  'api_featured_image': '//s3.amazonaws.com/donovanbailey/products/api_featured_images/000/001/044/original/data?1531071233',\n  'product_colors': [{'hex_value': '#CB4975', 'colour_name': 'Babs'},\n   {'hex_value': '#B6636F', 'colour_name': 'Bobbie'},\n   {'hex_value': '#B37072', 'colour_name': 'Rosie'},\n   {'hex_value': '#C6727C', 'colour_name': 'Ellie'},\n   {'hex_value': '#AF2257', 'colour_name': 'Dahlia'},\n   {'hex_value': '#573F53', 'colour_name': 'Kat'},\n   {'hex_value': '#875672', 'colour_name': 'Brie'},\n   {'hex_value': '#BC88A5', 'colour_name': 'Emmy'},\n   {'hex_value': '#BB8A88', 'colour_name': 'Dusty rose'},\n   {'hex_value': '#8D5C58', 'colour_name': 'Kylie'},\n   {'hex_value': '#C86775', 'colour_name': 'Leah'},\n   {'hex_value': '#F8D7D6', 'colour_name': 'Lip Plumping Balm'},\n   {'hex_value': '#8F6065', 'colour_name': 'Luna'},\n   {'hex_value': '#C79289', 'colour_name': 'Nova'},\n   {'hex_value': '#9D3F47', 'colour_name': 'Ruby'}]},\n {'id': 1030,\n  'brand': 'penny lane organics',\n  'name': 'Lip Gloss',\n  'price': '0.0',\n  'price_sign': '$',\n  'currency': 'USD',\n  'image_link': 'https://www.purpicks.com/wp-content/uploads/csm/sunset-bronze-pennylaneorganics1.jpg',\n  'product_link': 'https://www.purpicks.com/product/penny-lane-organics-lip-gloss/',\n  'website_link': 'https://purpicks.com/',\n  'description': 'For fuller healthier lips! Long lasting colour! This colour is a good choice for any skin tone. It can be made lighter by wiping some off after application.Please note that our Vitamin E is extracted from non-GMO soy bean oil and therefore is gluten-free.',\n  'rating': None,\n  'category': 'lip_gloss',\n  'product_type': 'lipstick',\n  'tag_list': ['purpicks',\n   'CertClean',\n   'Vegan',\n   'Chemical Free',\n   'Gluten Free'],\n  'created_at': '2018-06-30T19:19:31.534Z',\n  'updated_at': '2018-09-02T22:52:06.618Z',\n  'product_api_url': 'http://makeup-api.herokuapp.com/api/v1/products/1030.json',\n  'api_featured_image': '//s3.amazonaws.com/donovanbailey/products/api_featured_images/000/001/030/original/open-uri20180630-4-ucbwbt?1530390380',\n  'product_colors': [{'hex_value': '#2F1513', 'colour_name': 'Black Cherry'},\n   {'hex_value': '#4F1314', 'colour_name': 'Fiery Red'},\n   {'hex_value': '#6F2633', 'colour_name': 'Pearl Pink'},\n   {'hex_value': '#B05665', 'colour_name': 'Pink Shimmer'},\n   {'hex_value': '#783F30', 'colour_name': 'Sunset Bronze'},\n   {'hex_value': '#511617', 'colour_name': 'Sweet Cherry'},\n   {'hex_value': '#8E2432', 'colour_name': 'Tropical Fuschia'}]}]"
          },
          "metadata": {}
        }
      ],
      "execution_count": 19
    },
    {
      "cell_type": "code",
      "source": "\n# using the json only to read the results, how many products came up in this request?\n#2",
      "metadata": {
        "tags": [],
        "cell_id": "00016-b105cd78-cdc4-489e-b375-ea0d731879db",
        "deepnote_to_be_reexecuted": false,
        "source_hash": "fb29c976",
        "execution_start": 1615286140053,
        "execution_millis": 0,
        "deepnote_cell_type": "code"
      },
      "outputs": [],
      "execution_count": 20
    },
    {
      "cell_type": "code",
      "source": "# create a request for all products that have less than 4 stars for their rating. Use the params argument in the get()\nparams = {'rating_less_than': '4',} \nresponse5 = requests.get('http://makeup-api.herokuapp.com/api/v1/products.json', params = params) \n",
      "metadata": {
        "tags": [],
        "cell_id": "00017-6398b59b-323e-4086-baac-58dacc0ce3be",
        "deepnote_to_be_reexecuted": false,
        "source_hash": "b7e411b3",
        "execution_millis": 674,
        "execution_start": 1615286254899,
        "deepnote_cell_type": "code"
      },
      "outputs": [],
      "execution_count": 22
    },
    {
      "cell_type": "code",
      "source": "# what is the most common brand from above?\n\n\n#maybelline\n\n",
      "metadata": {
        "tags": [],
        "cell_id": "00018-26905a81-c92e-4d94-b58e-8832b71388c9",
        "deepnote_to_be_reexecuted": false,
        "source_hash": "29d97acb",
        "execution_millis": 5,
        "execution_start": 1615286403858,
        "deepnote_cell_type": "code"
      },
      "outputs": [
        {
          "output_type": "execute_result",
          "execution_count": 26,
          "data": {
            "text/plain": "maybelline            12\nphysicians formula     8\nl'oreal                4\nsuncoat                4\ncovergirl              4\ne.l.f.                 3\nsante                  3\nessie                  2\nrevlon                 2\nmoov                   2\nmarcelle               2\npacifica               2\norly                   2\ndalish                 1\nmilani                 1\nzorah                  1\nmistura                1\npure anada             1\nnyx                    1\nburt's bees            1\nmineral fusion         1\nName: brand, dtype: int64"
          },
          "metadata": {}
        }
      ],
      "execution_count": 26
    },
    {
      "cell_type": "code",
      "source": "#create a get requst for all Revlon cream foundations. Use the params argument in the get() function\nparams = {'brand': 'revlon',\n'product_category':'Cream',\n'product_type':'Foundation'\n } \nresponse6 = requests.get('http://makeup-api.herokuapp.com/api/v1/products.json', params = params) ",
      "metadata": {
        "tags": [],
        "cell_id": "00019-96548269-e77a-4a14-97de-05e984325a79",
        "deepnote_to_be_reexecuted": false,
        "source_hash": "4ac17596",
        "execution_millis": 78,
        "execution_start": 1615286770525,
        "deepnote_cell_type": "code"
      },
      "outputs": [],
      "execution_count": 28
    },
    {
      "cell_type": "code",
      "source": "# what is the average price for above?\njson_file6 = response6.json()\ndf6= json_normalize(json_file6)\ndf6\n#19.43",
      "metadata": {
        "tags": [],
        "cell_id": "00020-267d9df1-cefb-4256-a7ff-85e9a42260a5",
        "deepnote_to_be_reexecuted": false,
        "source_hash": "ec4ce046",
        "execution_start": 1615286835088,
        "execution_millis": 59,
        "deepnote_cell_type": "code"
      },
      "outputs": [
        {
          "output_type": "execute_result",
          "execution_count": 30,
          "data": {
            "application/vnd.deepnote.dataframe.v2+json": {
              "row_count": 3,
              "column_count": 19,
              "columns": [
                {
                  "name": "id",
                  "dtype": "int64",
                  "stats": {
                    "unique_count": 3,
                    "nan_count": 0,
                    "min": 381,
                    "max": 390,
                    "histogram": [
                      {
                        "bin_start": 381,
                        "bin_end": 381.9,
                        "count": 1
                      },
                      {
                        "bin_start": 381.9,
                        "bin_end": 382.8,
                        "count": 0
                      },
                      {
                        "bin_start": 382.8,
                        "bin_end": 383.7,
                        "count": 1
                      },
                      {
                        "bin_start": 383.7,
                        "bin_end": 384.6,
                        "count": 0
                      },
                      {
                        "bin_start": 384.6,
                        "bin_end": 385.5,
                        "count": 0
                      },
                      {
                        "bin_start": 385.5,
                        "bin_end": 386.4,
                        "count": 0
                      },
                      {
                        "bin_start": 386.4,
                        "bin_end": 387.3,
                        "count": 0
                      },
                      {
                        "bin_start": 387.3,
                        "bin_end": 388.2,
                        "count": 0
                      },
                      {
                        "bin_start": 388.2,
                        "bin_end": 389.1,
                        "count": 0
                      },
                      {
                        "bin_start": 389.1,
                        "bin_end": 390,
                        "count": 1
                      }
                    ]
                  }
                },
                {
                  "name": "brand",
                  "dtype": "object",
                  "stats": {
                    "unique_count": 1,
                    "nan_count": 0,
                    "categories": [
                      {
                        "name": "revlon",
                        "count": 3
                      }
                    ]
                  }
                },
                {
                  "name": "name",
                  "dtype": "object",
                  "stats": {
                    "unique_count": 3,
                    "nan_count": 0,
                    "categories": [
                      {
                        "name": "Revlon PhotoReady Insta-Fix Makeup",
                        "count": 1
                      },
                      {
                        "name": "Revlon Colorstay Whipped Creme Makeup",
                        "count": 1
                      },
                      {
                        "name": "Revlon New Complexion One-Step Makeup",
                        "count": 1
                      }
                    ]
                  }
                },
                {
                  "name": "price",
                  "dtype": "object",
                  "stats": {
                    "unique_count": 2,
                    "nan_count": 0,
                    "categories": [
                      {
                        "name": "19.99",
                        "count": 2
                      },
                      {
                        "name": "18.29",
                        "count": 1
                      }
                    ]
                  }
                },
                {
                  "name": "price_sign",
                  "dtype": "object",
                  "stats": {
                    "unique_count": 0,
                    "nan_count": 3,
                    "categories": [
                      {
                        "name": "Missing",
                        "count": 3
                      }
                    ]
                  }
                },
                {
                  "name": "currency",
                  "dtype": "object",
                  "stats": {
                    "unique_count": 0,
                    "nan_count": 3,
                    "categories": [
                      {
                        "name": "Missing",
                        "count": 3
                      }
                    ]
                  }
                },
                {
                  "name": "image_link",
                  "dtype": "object",
                  "stats": {
                    "unique_count": 3,
                    "nan_count": 0,
                    "categories": [
                      {
                        "name": "https://d3t32hsnjxo7q6.cloudfront.net/i/c4d5400687c823f37bf21301859c616d_ra,w158,h184_pa,w158,h184.png",
                        "count": 1
                      },
                      {
                        "name": "https://d3t32hsnjxo7q6.cloudfront.net/i/037b446c36900da96e12fde1be625a76_ra,w158,h184_pa,w158,h184.jpeg",
                        "count": 1
                      },
                      {
                        "name": "https://d3t32hsnjxo7q6.cloudfront.net/i/3b9b3cd1bce690e330f335cd696bb098_ra,w158,h184_pa,w158,h184.jpeg",
                        "count": 1
                      }
                    ]
                  }
                },
                {
                  "name": "product_link",
                  "dtype": "object",
                  "stats": {
                    "unique_count": 3,
                    "nan_count": 0,
                    "categories": [
                      {
                        "name": "https://well.ca/products/revlon-photoready-insta-fix-makeup_101108.html",
                        "count": 1
                      },
                      {
                        "name": "https://well.ca/products/revlon-colorstay-whipped-creme_54357.html",
                        "count": 1
                      },
                      {
                        "name": "https://well.ca/products/revlon-new-complexion-one-step_3998.html",
                        "count": 1
                      }
                    ]
                  }
                },
                {
                  "name": "website_link",
                  "dtype": "object",
                  "stats": {
                    "unique_count": 1,
                    "nan_count": 0,
                    "categories": [
                      {
                        "name": "https://well.ca",
                        "count": 3
                      }
                    ]
                  }
                },
                {
                  "name": "description",
                  "dtype": "object",
                  "stats": {
                    "unique_count": 3,
                    "nan_count": 0,
                    "categories": [
                      {
                        "name": "Look flawless anytime, anywhere with Revlon\n PhotoReady Insta-Fix™  Makeup.  This instant skin retoucher can be used\n all over the face to conceal flaws and is perfect for touch ups on the \ngo.  Revlon PhotoReady Insta-Fix™  Makeup provides Light to Medium coverage.",
                        "count": 1
                      },
                      {
                        "name": "Finally, truly decadent makeup offers \nultimate performance. The mousse-like texture of Revlon Colorstay Whipped Creme Makeup feels like silk on your \nskin. And, the time release formula balances skin for a flawless look. \nAll day flexible wear without flaking, caking or feeling heavy.Features: Buildable to full coverage for flawless skin\nSoft, matte finish all day long\nWithstands heat and humidity – great for summer",
                        "count": 1
                      },
                      {
                        "name": "Give your skin a bright, natural looking finish in one easy step! This creamy formula combines the coverage of a liquid with the finish of a powder for a natural, even finish. Formulated with a special mineral complex to naturally brighten your skin it offers perfect, long-lasting coverage with SPF 15 protection.",
                        "count": 1
                      }
                    ]
                  }
                },
                {
                  "name": "rating",
                  "dtype": "float64",
                  "stats": {
                    "unique_count": 2,
                    "nan_count": 1,
                    "min": 4.2,
                    "max": 4.4,
                    "histogram": [
                      {
                        "bin_start": 4.2,
                        "bin_end": 4.220000000000001,
                        "count": 1
                      },
                      {
                        "bin_start": 4.220000000000001,
                        "bin_end": 4.24,
                        "count": 0
                      },
                      {
                        "bin_start": 4.24,
                        "bin_end": 4.26,
                        "count": 0
                      },
                      {
                        "bin_start": 4.26,
                        "bin_end": 4.28,
                        "count": 0
                      },
                      {
                        "bin_start": 4.28,
                        "bin_end": 4.300000000000001,
                        "count": 0
                      },
                      {
                        "bin_start": 4.300000000000001,
                        "bin_end": 4.32,
                        "count": 0
                      },
                      {
                        "bin_start": 4.32,
                        "bin_end": 4.34,
                        "count": 0
                      },
                      {
                        "bin_start": 4.34,
                        "bin_end": 4.36,
                        "count": 0
                      },
                      {
                        "bin_start": 4.36,
                        "bin_end": 4.380000000000001,
                        "count": 0
                      },
                      {
                        "bin_start": 4.380000000000001,
                        "bin_end": 4.4,
                        "count": 1
                      }
                    ]
                  }
                },
                {
                  "name": "category",
                  "dtype": "object",
                  "stats": {
                    "unique_count": 1,
                    "nan_count": 0,
                    "categories": [
                      {
                        "name": "cream",
                        "count": 3
                      }
                    ]
                  }
                },
                {
                  "name": "product_type",
                  "dtype": "object",
                  "stats": {
                    "unique_count": 1,
                    "nan_count": 0,
                    "categories": [
                      {
                        "name": "foundation",
                        "count": 3
                      }
                    ]
                  }
                },
                {
                  "name": "tag_list",
                  "dtype": "object",
                  "stats": {
                    "unique_count": 3,
                    "nan_count": 0,
                    "categories": [
                      {
                        "name": "[]",
                        "count": 3
                      }
                    ]
                  }
                },
                {
                  "name": "created_at",
                  "dtype": "object",
                  "stats": {
                    "unique_count": 3,
                    "nan_count": 0,
                    "categories": [
                      {
                        "name": "2016-10-01T18:33:28.252Z",
                        "count": 1
                      },
                      {
                        "name": "2016-10-01T18:33:14.237Z",
                        "count": 1
                      },
                      {
                        "name": "2016-10-01T18:33:12.962Z",
                        "count": 1
                      }
                    ]
                  }
                },
                {
                  "name": "updated_at",
                  "dtype": "object",
                  "stats": {
                    "unique_count": 3,
                    "nan_count": 0,
                    "categories": [
                      {
                        "name": "2017-12-23T21:08:36.469Z",
                        "count": 1
                      },
                      {
                        "name": "2017-12-23T21:08:34.642Z",
                        "count": 1
                      },
                      {
                        "name": "2017-12-23T21:08:33.889Z",
                        "count": 1
                      }
                    ]
                  }
                },
                {
                  "name": "product_api_url",
                  "dtype": "object",
                  "stats": {
                    "unique_count": 3,
                    "nan_count": 0,
                    "categories": [
                      {
                        "name": "http://makeup-api.herokuapp.com/api/v1/products/390.json",
                        "count": 1
                      },
                      {
                        "name": "http://makeup-api.herokuapp.com/api/v1/products/383.json",
                        "count": 1
                      },
                      {
                        "name": "http://makeup-api.herokuapp.com/api/v1/products/381.json",
                        "count": 1
                      }
                    ]
                  }
                },
                {
                  "name": "api_featured_image",
                  "dtype": "object",
                  "stats": {
                    "unique_count": 3,
                    "nan_count": 0,
                    "categories": [
                      {
                        "name": "//s3.amazonaws.com/donovanbailey/products/api_featured_images/000/000/390/original/open-uri20171223-4-1xru960?1514063316",
                        "count": 1
                      },
                      {
                        "name": "//s3.amazonaws.com/donovanbailey/products/api_featured_images/000/000/383/original/data?1514063314",
                        "count": 1
                      },
                      {
                        "name": "//s3.amazonaws.com/donovanbailey/products/api_featured_images/000/000/381/original/data?1514063313",
                        "count": 1
                      }
                    ]
                  }
                },
                {
                  "name": "product_colors",
                  "dtype": "object",
                  "stats": {
                    "unique_count": 3,
                    "nan_count": 0,
                    "categories": [
                      {
                        "name": "[{'hex_value': '#f9e3d5', 'colour_name': 'Ivory '}, {'hex_value': '#faefdc', 'colour_name': 'Vanilla '}, {'hex_value': '#f8e5d1', 'colour_name': 'Shell '}, {'hex_value': '#f0d7c4', 'colour_name': 'Nude '}, {'hex_value': '#eacfbb', 'colour_name': 'Golden Beige '}, {'hex_value': '#f2cdaf', 'colour_name': 'Natural Beige '}, {'hex_value': '#f3c8aa', 'colour_name': 'Medium Beige '}, {'hex_value': '#e2a98e', 'colour_name': 'Rich Ginger '}, {'hex_value': '#ca9774', 'colour_name': 'Caramel '}]",
                        "count": 1
                      },
                      {
                        "name": "[{'hex_value': '#f5dbc8', 'colour_name': 'Nude '}, {'hex_value': '#f2dfc9', 'colour_name': 'Buff '}, {'hex_value': '#ebcaaf', 'colour_name': 'Warm Golden '}, {'hex_value': '#eaccb3', 'colour_name': 'True Beige '}, {'hex_value': '#e9cdb2', 'colour_name': 'Medium Beige '}]",
                        "count": 1
                      },
                      {
                        "name": "[{'hex_value': '#FBCCA0', 'colour_name': 'Ivory Beige '}, {'hex_value': '#F3C391', 'colour_name': 'Tender Peach '}, {'hex_value': '#E5B383', 'colour_name': 'Natural Beige '}, {'hex_value': '#E2AB70', 'colour_name': 'Honey Beige '}, {'hex_value': '#E0AD7C', 'colour_name': 'Medium Beige '}, {'hex_value': '#D79A78', 'colour_name': 'Warm Beige '}]",
                        "count": 1
                      }
                    ]
                  }
                },
                {
                  "name": "_deepnote_index_column",
                  "dtype": "int64"
                }
              ],
              "rows_top": [
                {
                  "id": 390,
                  "brand": "revlon",
                  "name": "Revlon PhotoReady Insta-Fix Makeup",
                  "price": "19.99",
                  "price_sign": "nan",
                  "currency": "nan",
                  "image_link": "https://d3t32hsnjxo7q6.cloudfront.net/i/c4d5400687c823f37bf21301859c616d_ra,w158,h184_pa,w158,h184.png",
                  "product_link": "https://well.ca/products/revlon-photoready-insta-fix-makeup_101108.html",
                  "website_link": "https://well.ca",
                  "description": "Look flawless anytime, anywhere with Revlon\n PhotoReady Insta-Fix™  Makeup.  This instant skin retoucher can be used\n all over the face to conceal flaws and is perfect for touch ups on the \ngo.  Revlon PhotoReady Insta-Fix™  Makeup provides Light to Medium coverage.",
                  "rating": "nan",
                  "category": "cream",
                  "product_type": "foundation",
                  "tag_list": "[]",
                  "created_at": "2016-10-01T18:33:28.252Z",
                  "updated_at": "2017-12-23T21:08:36.469Z",
                  "product_api_url": "http://makeup-api.herokuapp.com/api/v1/products/390.json",
                  "api_featured_image": "//s3.amazonaws.com/donovanbailey/products/api_featured_images/000/000/390/original/open-uri20171223-4-1xru960?1514063316",
                  "product_colors": "[{'hex_value': '#f9e3d5', 'colour_name': 'Ivory '}, {'hex_value': '#faefdc', 'colour_name': 'Vanilla '}, {'hex_value': '#f8e5d1', 'colour_name': 'Shell '}, {'hex_value': '#f0d7c4', 'colour_name': 'Nude '}, {'hex_value': '#eacfbb', 'colour_name': 'Golden Beige '}, {'hex_value': '#f2cdaf', 'colour_name': 'Natural Beige '}, {'hex_value': '#f3c8aa', 'colour_name': 'Medium Beige '}, {'hex_value': '#e2a98e', 'colour_name': 'Rich Ginger '}, {'hex_value': '#ca9774', 'colour_name': 'Caramel '}]",
                  "_deepnote_index_column": 0
                },
                {
                  "id": 383,
                  "brand": "revlon",
                  "name": "Revlon Colorstay Whipped Creme Makeup",
                  "price": "19.99",
                  "price_sign": "nan",
                  "currency": "nan",
                  "image_link": "https://d3t32hsnjxo7q6.cloudfront.net/i/037b446c36900da96e12fde1be625a76_ra,w158,h184_pa,w158,h184.jpeg",
                  "product_link": "https://well.ca/products/revlon-colorstay-whipped-creme_54357.html",
                  "website_link": "https://well.ca",
                  "description": "Finally, truly decadent makeup offers \nultimate performance. The mousse-like texture of Revlon Colorstay Whipped Creme Makeup feels like silk on your \nskin. And, the time release formula balances skin for a flawless look. \nAll day flexible wear without flaking, caking or feeling heavy.Features: Buildable to full coverage for flawless skin\nSoft, matte finish all day long\nWithstands heat and humidity – great for summer",
                  "rating": "4.4",
                  "category": "cream",
                  "product_type": "foundation",
                  "tag_list": "[]",
                  "created_at": "2016-10-01T18:33:14.237Z",
                  "updated_at": "2017-12-23T21:08:34.642Z",
                  "product_api_url": "http://makeup-api.herokuapp.com/api/v1/products/383.json",
                  "api_featured_image": "//s3.amazonaws.com/donovanbailey/products/api_featured_images/000/000/383/original/data?1514063314",
                  "product_colors": "[{'hex_value': '#f5dbc8', 'colour_name': 'Nude '}, {'hex_value': '#f2dfc9', 'colour_name': 'Buff '}, {'hex_value': '#ebcaaf', 'colour_name': 'Warm Golden '}, {'hex_value': '#eaccb3', 'colour_name': 'True Beige '}, {'hex_value': '#e9cdb2', 'colour_name': 'Medium Beige '}]",
                  "_deepnote_index_column": 1
                },
                {
                  "id": 381,
                  "brand": "revlon",
                  "name": "Revlon New Complexion One-Step Makeup",
                  "price": "18.29",
                  "price_sign": "nan",
                  "currency": "nan",
                  "image_link": "https://d3t32hsnjxo7q6.cloudfront.net/i/3b9b3cd1bce690e330f335cd696bb098_ra,w158,h184_pa,w158,h184.jpeg",
                  "product_link": "https://well.ca/products/revlon-new-complexion-one-step_3998.html",
                  "website_link": "https://well.ca",
                  "description": "Give your skin a bright, natural looking finish in one easy step! This creamy formula combines the coverage of a liquid with the finish of a powder for a natural, even finish. Formulated with a special mineral complex to naturally brighten your skin it offers perfect, long-lasting coverage with SPF 15 protection.",
                  "rating": "4.2",
                  "category": "cream",
                  "product_type": "foundation",
                  "tag_list": "[]",
                  "created_at": "2016-10-01T18:33:12.962Z",
                  "updated_at": "2017-12-23T21:08:33.889Z",
                  "product_api_url": "http://makeup-api.herokuapp.com/api/v1/products/381.json",
                  "api_featured_image": "//s3.amazonaws.com/donovanbailey/products/api_featured_images/000/000/381/original/data?1514063313",
                  "product_colors": "[{'hex_value': '#FBCCA0', 'colour_name': 'Ivory Beige '}, {'hex_value': '#F3C391', 'colour_name': 'Tender Peach '}, {'hex_value': '#E5B383', 'colour_name': 'Natural Beige '}, {'hex_value': '#E2AB70', 'colour_name': 'Honey Beige '}, {'hex_value': '#E0AD7C', 'colour_name': 'Medium Beige '}, {'hex_value': '#D79A78', 'colour_name': 'Warm Beige '}]",
                  "_deepnote_index_column": 2
                }
              ],
              "rows_bottom": null
            },
            "text/plain": "    id   brand                                   name  price price_sign  \\\n0  390  revlon     Revlon PhotoReady Insta-Fix Makeup  19.99       None   \n1  383  revlon  Revlon Colorstay Whipped Creme Makeup  19.99       None   \n2  381  revlon  Revlon New Complexion One-Step Makeup  18.29       None   \n\n  currency                                         image_link  \\\n0     None  https://d3t32hsnjxo7q6.cloudfront.net/i/c4d540...   \n1     None  https://d3t32hsnjxo7q6.cloudfront.net/i/037b44...   \n2     None  https://d3t32hsnjxo7q6.cloudfront.net/i/3b9b3c...   \n\n                                        product_link     website_link  \\\n0  https://well.ca/products/revlon-photoready-ins...  https://well.ca   \n1  https://well.ca/products/revlon-colorstay-whip...  https://well.ca   \n2  https://well.ca/products/revlon-new-complexion...  https://well.ca   \n\n                                         description  rating category  \\\n0  Look flawless anytime, anywhere with Revlon\\n ...     NaN    cream   \n1  Finally, truly decadent makeup offers \\nultima...     4.4    cream   \n2  Give your skin a bright, natural looking finis...     4.2    cream   \n\n  product_type tag_list                created_at                updated_at  \\\n0   foundation       []  2016-10-01T18:33:28.252Z  2017-12-23T21:08:36.469Z   \n1   foundation       []  2016-10-01T18:33:14.237Z  2017-12-23T21:08:34.642Z   \n2   foundation       []  2016-10-01T18:33:12.962Z  2017-12-23T21:08:33.889Z   \n\n                                     product_api_url  \\\n0  http://makeup-api.herokuapp.com/api/v1/product...   \n1  http://makeup-api.herokuapp.com/api/v1/product...   \n2  http://makeup-api.herokuapp.com/api/v1/product...   \n\n                                  api_featured_image  \\\n0  //s3.amazonaws.com/donovanbailey/products/api_...   \n1  //s3.amazonaws.com/donovanbailey/products/api_...   \n2  //s3.amazonaws.com/donovanbailey/products/api_...   \n\n                                      product_colors  \n0  [{'hex_value': '#f9e3d5', 'colour_name': 'Ivor...  \n1  [{'hex_value': '#f5dbc8', 'colour_name': 'Nude...  \n2  [{'hex_value': '#FBCCA0', 'colour_name': 'Ivor...  ",
            "text/html": "<div>\n<style scoped>\n    .dataframe tbody tr th:only-of-type {\n        vertical-align: middle;\n    }\n\n    .dataframe tbody tr th {\n        vertical-align: top;\n    }\n\n    .dataframe thead th {\n        text-align: right;\n    }\n</style>\n<table border=\"1\" class=\"dataframe\">\n  <thead>\n    <tr style=\"text-align: right;\">\n      <th></th>\n      <th>id</th>\n      <th>brand</th>\n      <th>name</th>\n      <th>price</th>\n      <th>price_sign</th>\n      <th>currency</th>\n      <th>image_link</th>\n      <th>product_link</th>\n      <th>website_link</th>\n      <th>description</th>\n      <th>rating</th>\n      <th>category</th>\n      <th>product_type</th>\n      <th>tag_list</th>\n      <th>created_at</th>\n      <th>updated_at</th>\n      <th>product_api_url</th>\n      <th>api_featured_image</th>\n      <th>product_colors</th>\n    </tr>\n  </thead>\n  <tbody>\n    <tr>\n      <th>0</th>\n      <td>390</td>\n      <td>revlon</td>\n      <td>Revlon PhotoReady Insta-Fix Makeup</td>\n      <td>19.99</td>\n      <td>None</td>\n      <td>None</td>\n      <td>https://d3t32hsnjxo7q6.cloudfront.net/i/c4d540...</td>\n      <td>https://well.ca/products/revlon-photoready-ins...</td>\n      <td>https://well.ca</td>\n      <td>Look flawless anytime, anywhere with Revlon\\n ...</td>\n      <td>NaN</td>\n      <td>cream</td>\n      <td>foundation</td>\n      <td>[]</td>\n      <td>2016-10-01T18:33:28.252Z</td>\n      <td>2017-12-23T21:08:36.469Z</td>\n      <td>http://makeup-api.herokuapp.com/api/v1/product...</td>\n      <td>//s3.amazonaws.com/donovanbailey/products/api_...</td>\n      <td>[{'hex_value': '#f9e3d5', 'colour_name': 'Ivor...</td>\n    </tr>\n    <tr>\n      <th>1</th>\n      <td>383</td>\n      <td>revlon</td>\n      <td>Revlon Colorstay Whipped Creme Makeup</td>\n      <td>19.99</td>\n      <td>None</td>\n      <td>None</td>\n      <td>https://d3t32hsnjxo7q6.cloudfront.net/i/037b44...</td>\n      <td>https://well.ca/products/revlon-colorstay-whip...</td>\n      <td>https://well.ca</td>\n      <td>Finally, truly decadent makeup offers \\nultima...</td>\n      <td>4.4</td>\n      <td>cream</td>\n      <td>foundation</td>\n      <td>[]</td>\n      <td>2016-10-01T18:33:14.237Z</td>\n      <td>2017-12-23T21:08:34.642Z</td>\n      <td>http://makeup-api.herokuapp.com/api/v1/product...</td>\n      <td>//s3.amazonaws.com/donovanbailey/products/api_...</td>\n      <td>[{'hex_value': '#f5dbc8', 'colour_name': 'Nude...</td>\n    </tr>\n    <tr>\n      <th>2</th>\n      <td>381</td>\n      <td>revlon</td>\n      <td>Revlon New Complexion One-Step Makeup</td>\n      <td>18.29</td>\n      <td>None</td>\n      <td>None</td>\n      <td>https://d3t32hsnjxo7q6.cloudfront.net/i/3b9b3c...</td>\n      <td>https://well.ca/products/revlon-new-complexion...</td>\n      <td>https://well.ca</td>\n      <td>Give your skin a bright, natural looking finis...</td>\n      <td>4.2</td>\n      <td>cream</td>\n      <td>foundation</td>\n      <td>[]</td>\n      <td>2016-10-01T18:33:12.962Z</td>\n      <td>2017-12-23T21:08:33.889Z</td>\n      <td>http://makeup-api.herokuapp.com/api/v1/product...</td>\n      <td>//s3.amazonaws.com/donovanbailey/products/api_...</td>\n      <td>[{'hex_value': '#FBCCA0', 'colour_name': 'Ivor...</td>\n    </tr>\n  </tbody>\n</table>\n</div>"
          },
          "metadata": {}
        }
      ],
      "execution_count": 30
    },
    {
      "cell_type": "code",
      "source": "# make a get request with an unknown endpoint. what status code do you get?\nresponse7 = requests.get('http://makeup-api.herokuapp.com/api/v1/') \nresponse7\n#404\n",
      "metadata": {
        "tags": [],
        "cell_id": "00021-6985cc1c-369c-4132-ad38-e45e79895d1b",
        "deepnote_to_be_reexecuted": false,
        "source_hash": "ab6d854",
        "execution_millis": 6,
        "execution_start": 1615287038411,
        "deepnote_cell_type": "code"
      },
      "outputs": [
        {
          "output_type": "execute_result",
          "execution_count": 35,
          "data": {
            "text/plain": "<Response [404]>"
          },
          "metadata": {}
        }
      ],
      "execution_count": 35
    },
    {
      "cell_type": "code",
      "source": "",
      "metadata": {
        "tags": [],
        "cell_id": "00022-ab5ea41b-80d8-4336-a6a4-a569fd4af265",
        "deepnote_cell_type": "code"
      },
      "outputs": [],
      "execution_count": null
    },
    {
      "cell_type": "markdown",
      "source": "<a style='text-decoration:none;line-height:16px;display:flex;color:#5B5B62;padding:10px;justify-content:end;' href='https://deepnote.com?utm_source=created-in-deepnote-cell&projectId=38b273f5-7653-4dad-ad5a-2cae6b198b2b' target=\"_blank\">\n<img style='display:inline;max-height:16px;margin:0px;margin-right:7.5px;' src='data:image/svg+xml;base64,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' > </img>\nCreated in <span style='font-weight:600;margin-left:4px;'>Deepnote</span></a>",
      "metadata": {
        "tags": [],
        "created_in_deepnote_cell": true,
        "deepnote_cell_type": "markdown"
      }
    }
  ],
  "nbformat": 4,
  "nbformat_minor": 4,
  "metadata": {
    "deepnote": {},
    "deepnote_execution_queue": [],
    "deepnote_notebook_id": "7d981059-7cd3-4205-8c07-4295acf607df",
    "kernelspec": {
      "display_name": "Python 3",
      "language": "python",
      "name": "python3"
    },
    "language_info": {
      "codemirror_mode": {
        "name": "ipython",
        "version": 3
      },
      "file_extension": ".py",
      "mimetype": "text/x-python",
      "name": "python",
      "nbconvert_exporter": "python",
      "pygments_lexer": "ipython3",
      "version": "3.8.3"
    }
  }
}